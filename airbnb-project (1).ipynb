{
 "cells": [
  {
   "cell_type": "code",
   "execution_count": 1,
   "id": "92c6dbf8",
   "metadata": {
    "_cell_guid": "b1076dfc-b9ad-4769-8c92-a6c4dae69d19",
    "_uuid": "8f2839f25d086af736a60e9eeb907d3b93b6e0e5",
    "execution": {
     "iopub.execute_input": "2025-09-09T09:40:27.991475Z",
     "iopub.status.busy": "2025-09-09T09:40:27.991087Z",
     "iopub.status.idle": "2025-09-09T09:40:29.939052Z",
     "shell.execute_reply": "2025-09-09T09:40:29.937849Z"
    },
    "papermill": {
     "duration": 1.96363,
     "end_time": "2025-09-09T09:40:29.940605",
     "exception": false,
     "start_time": "2025-09-09T09:40:27.976975",
     "status": "completed"
    },
    "tags": []
   },
   "outputs": [
    {
     "name": "stdout",
     "output_type": "stream",
     "text": [
      "/kaggle/input/airbnb-listings-reviews/Airbnb Data/Listings.csv\n",
      "/kaggle/input/airbnb-listings-reviews/Airbnb Data/Reviews.csv\n",
      "/kaggle/input/airbnb-listings-reviews/Airbnb Data/Reviews_data_dictionary.csv\n",
      "/kaggle/input/airbnb-listings-reviews/Airbnb Data/Listings_data_dictionary.csv\n"
     ]
    }
   ],
   "source": [
    "# This Python 3 environment comes with many helpful analytics libraries installed\n",
    "# It is defined by the kaggle/python Docker image: https://github.com/kaggle/docker-python\n",
    "# For example, here's several helpful packages to load\n",
    "\n",
    "import numpy as np # linear algebra\n",
    "import pandas as pd # data processing, CSV file I/O (e.g. pd.read_csv)\n",
    "\n",
    "# Input data files are available in the read-only \"../input/\" directory\n",
    "# For example, running this (by clicking run or pressing Shift+Enter) will list all files under the input directory\n",
    "\n",
    "import os\n",
    "for dirname, _, filenames in os.walk('/kaggle/input'):\n",
    "    for filename in filenames:\n",
    "        print(os.path.join(dirname, filename))\n",
    "\n",
    "# You can write up to 20GB to the current directory (/kaggle/working/) that gets preserved as output when you create a version using \"Save & Run All\" \n",
    "# You can also write temporary files to /kaggle/temp/, but they won't be saved outside of the current session"
   ]
  },
  {
   "cell_type": "markdown",
   "id": "aea906c4",
   "metadata": {
    "papermill": {
     "duration": 0.011735,
     "end_time": "2025-09-09T09:40:29.963742",
     "exception": false,
     "start_time": "2025-09-09T09:40:29.952007",
     "status": "completed"
    },
    "tags": []
   },
   "source": [
    "<div style=\"\n",
    "    background-color:yellow; \n",
    "    color: black; \n",
    "    padding: 15px; \n",
    "    border-radius: 10px; \n",
    "    text-align: center; \n",
    "    font-size: 28px; \n",
    "    font-weight: bold;\n",
    "\">\n",
    "    Impact of Regulation on AirBnB business in Paris\n",
    "</div>\n"
   ]
  },
  {
   "cell_type": "markdown",
   "id": "29b73b1e",
   "metadata": {
    "papermill": {
     "duration": 0.01085,
     "end_time": "2025-09-09T09:40:29.985467",
     "exception": false,
     "start_time": "2025-09-09T09:40:29.974617",
     "status": "completed"
    },
    "tags": []
   },
   "source": [
    "![Paris Airbnb View](https://media.architecturaldigest.com/photos/5783df143cba0f2e2ca06bae/master/pass/Shangri-La%202.jpg)"
   ]
  },
  {
   "cell_type": "code",
   "execution_count": 2,
   "id": "93fabf26",
   "metadata": {
    "execution": {
     "iopub.execute_input": "2025-09-09T09:40:30.008812Z",
     "iopub.status.busy": "2025-09-09T09:40:30.008383Z",
     "iopub.status.idle": "2025-09-09T09:40:30.048774Z",
     "shell.execute_reply": "2025-09-09T09:40:30.047879Z"
    },
    "papermill": {
     "duration": 0.054047,
     "end_time": "2025-09-09T09:40:30.050483",
     "exception": false,
     "start_time": "2025-09-09T09:40:29.996436",
     "status": "completed"
    },
    "tags": []
   },
   "outputs": [
    {
     "data": {
      "text/html": [
       "<div>\n",
       "<style scoped>\n",
       "    .dataframe tbody tr th:only-of-type {\n",
       "        vertical-align: middle;\n",
       "    }\n",
       "\n",
       "    .dataframe tbody tr th {\n",
       "        vertical-align: top;\n",
       "    }\n",
       "\n",
       "    .dataframe thead th {\n",
       "        text-align: right;\n",
       "    }\n",
       "</style>\n",
       "<table border=\"1\" class=\"dataframe\">\n",
       "  <thead>\n",
       "    <tr style=\"text-align: right;\">\n",
       "      <th></th>\n",
       "      <th>Field</th>\n",
       "      <th>Description</th>\n",
       "    </tr>\n",
       "  </thead>\n",
       "  <tbody>\n",
       "    <tr>\n",
       "      <th>0</th>\n",
       "      <td>listing_id</td>\n",
       "      <td>Listing ID</td>\n",
       "    </tr>\n",
       "    <tr>\n",
       "      <th>1</th>\n",
       "      <td>review_id</td>\n",
       "      <td>Review ID</td>\n",
       "    </tr>\n",
       "    <tr>\n",
       "      <th>2</th>\n",
       "      <td>date</td>\n",
       "      <td>Review date</td>\n",
       "    </tr>\n",
       "    <tr>\n",
       "      <th>3</th>\n",
       "      <td>reviewer_id</td>\n",
       "      <td>Reviewer ID</td>\n",
       "    </tr>\n",
       "  </tbody>\n",
       "</table>\n",
       "</div>"
      ],
      "text/plain": [
       "         Field  Description\n",
       "0   listing_id   Listing ID\n",
       "1    review_id    Review ID\n",
       "2         date  Review date\n",
       "3  reviewer_id  Reviewer ID"
      ]
     },
     "execution_count": 2,
     "metadata": {},
     "output_type": "execute_result"
    }
   ],
   "source": [
    "review_dict = pd.read_csv(r\"/kaggle/input/airbnb-listings-reviews/Airbnb Data/Reviews_data_dictionary.csv\")\n",
    "review_dict\n"
   ]
  },
  {
   "cell_type": "markdown",
   "id": "e2e1e93b",
   "metadata": {
    "papermill": {
     "duration": 0.010864,
     "end_time": "2025-09-09T09:40:30.072867",
     "exception": false,
     "start_time": "2025-09-09T09:40:30.062003",
     "status": "completed"
    },
    "tags": []
   },
   "source": [
    "## Executive Summary\n",
    "\n",
    "- **Rapid Growth Pre-2017**: Airbnb in Paris expanded quickly, with a surge of new hosts entering the market until 2016.  \n",
    "- **Regulatory Shift in 2017**: The introduction of stricter rental regulations slowed new host entries, reducing supply growth.  \n",
    "- **Resilient Demand**: Traveler demand remained strong, leading to a supply-demand gap and upward pressure on prices.  \n",
    "- **Key Opportunities**: Success now depends on focusing on premium localities, implementing dynamic pricing, and adapting to regulatory constraints.  \n"
   ]
  },
  {
   "cell_type": "code",
   "execution_count": 3,
   "id": "46e3ca8c",
   "metadata": {
    "execution": {
     "iopub.execute_input": "2025-09-09T09:40:30.097453Z",
     "iopub.status.busy": "2025-09-09T09:40:30.097072Z",
     "iopub.status.idle": "2025-09-09T09:40:35.873186Z",
     "shell.execute_reply": "2025-09-09T09:40:35.872277Z"
    },
    "papermill": {
     "duration": 5.790901,
     "end_time": "2025-09-09T09:40:35.874923",
     "exception": false,
     "start_time": "2025-09-09T09:40:30.084022",
     "status": "completed"
    },
    "tags": []
   },
   "outputs": [
    {
     "data": {
      "text/html": [
       "<div>\n",
       "<style scoped>\n",
       "    .dataframe tbody tr th:only-of-type {\n",
       "        vertical-align: middle;\n",
       "    }\n",
       "\n",
       "    .dataframe tbody tr th {\n",
       "        vertical-align: top;\n",
       "    }\n",
       "\n",
       "    .dataframe thead th {\n",
       "        text-align: right;\n",
       "    }\n",
       "</style>\n",
       "<table border=\"1\" class=\"dataframe\">\n",
       "  <thead>\n",
       "    <tr style=\"text-align: right;\">\n",
       "      <th></th>\n",
       "      <th>listing_id</th>\n",
       "      <th>review_id</th>\n",
       "      <th>date</th>\n",
       "      <th>reviewer_id</th>\n",
       "    </tr>\n",
       "  </thead>\n",
       "  <tbody>\n",
       "    <tr>\n",
       "      <th>0</th>\n",
       "      <td>11798</td>\n",
       "      <td>330265172</td>\n",
       "      <td>2018-09-30</td>\n",
       "      <td>11863072</td>\n",
       "    </tr>\n",
       "    <tr>\n",
       "      <th>1</th>\n",
       "      <td>15383</td>\n",
       "      <td>330103585</td>\n",
       "      <td>2018-09-30</td>\n",
       "      <td>39147453</td>\n",
       "    </tr>\n",
       "    <tr>\n",
       "      <th>2</th>\n",
       "      <td>16455</td>\n",
       "      <td>329985788</td>\n",
       "      <td>2018-09-30</td>\n",
       "      <td>1125378</td>\n",
       "    </tr>\n",
       "    <tr>\n",
       "      <th>3</th>\n",
       "      <td>17919</td>\n",
       "      <td>330016899</td>\n",
       "      <td>2018-09-30</td>\n",
       "      <td>172717984</td>\n",
       "    </tr>\n",
       "    <tr>\n",
       "      <th>4</th>\n",
       "      <td>26827</td>\n",
       "      <td>329995638</td>\n",
       "      <td>2018-09-30</td>\n",
       "      <td>17542859</td>\n",
       "    </tr>\n",
       "  </tbody>\n",
       "</table>\n",
       "</div>"
      ],
      "text/plain": [
       "   listing_id  review_id        date  reviewer_id\n",
       "0       11798  330265172  2018-09-30     11863072\n",
       "1       15383  330103585  2018-09-30     39147453\n",
       "2       16455  329985788  2018-09-30      1125378\n",
       "3       17919  330016899  2018-09-30    172717984\n",
       "4       26827  329995638  2018-09-30     17542859"
      ]
     },
     "execution_count": 3,
     "metadata": {},
     "output_type": "execute_result"
    }
   ],
   "source": [
    "review = pd.read_csv(r\"/kaggle/input/airbnb-listings-reviews/Airbnb Data/Reviews.csv\")\n",
    "\n",
    "review.head()\n"
   ]
  },
  {
   "cell_type": "code",
   "execution_count": 4,
   "id": "e865743e",
   "metadata": {
    "execution": {
     "iopub.execute_input": "2025-09-09T09:40:35.902283Z",
     "iopub.status.busy": "2025-09-09T09:40:35.901933Z",
     "iopub.status.idle": "2025-09-09T09:40:35.918355Z",
     "shell.execute_reply": "2025-09-09T09:40:35.917380Z"
    },
    "papermill": {
     "duration": 0.030622,
     "end_time": "2025-09-09T09:40:35.919833",
     "exception": false,
     "start_time": "2025-09-09T09:40:35.889211",
     "status": "completed"
    },
    "tags": []
   },
   "outputs": [
    {
     "data": {
      "text/html": [
       "<div>\n",
       "<style scoped>\n",
       "    .dataframe tbody tr th:only-of-type {\n",
       "        vertical-align: middle;\n",
       "    }\n",
       "\n",
       "    .dataframe tbody tr th {\n",
       "        vertical-align: top;\n",
       "    }\n",
       "\n",
       "    .dataframe thead th {\n",
       "        text-align: right;\n",
       "    }\n",
       "</style>\n",
       "<table border=\"1\" class=\"dataframe\">\n",
       "  <thead>\n",
       "    <tr style=\"text-align: right;\">\n",
       "      <th></th>\n",
       "      <th>Field</th>\n",
       "      <th>Description</th>\n",
       "    </tr>\n",
       "  </thead>\n",
       "  <tbody>\n",
       "    <tr>\n",
       "      <th>0</th>\n",
       "      <td>listing_id</td>\n",
       "      <td>Listing ID</td>\n",
       "    </tr>\n",
       "    <tr>\n",
       "      <th>1</th>\n",
       "      <td>name</td>\n",
       "      <td>Listing Name</td>\n",
       "    </tr>\n",
       "    <tr>\n",
       "      <th>2</th>\n",
       "      <td>host_id</td>\n",
       "      <td>Host ID</td>\n",
       "    </tr>\n",
       "    <tr>\n",
       "      <th>3</th>\n",
       "      <td>host_since</td>\n",
       "      <td>Date the Host joined Airbnb</td>\n",
       "    </tr>\n",
       "    <tr>\n",
       "      <th>4</th>\n",
       "      <td>host_location</td>\n",
       "      <td>Location where the Host is based</td>\n",
       "    </tr>\n",
       "    <tr>\n",
       "      <th>5</th>\n",
       "      <td>host_response_time</td>\n",
       "      <td>Estimate of how long the Host takes to respond</td>\n",
       "    </tr>\n",
       "    <tr>\n",
       "      <th>6</th>\n",
       "      <td>host_response_rate</td>\n",
       "      <td>Percentage of times the Host responds</td>\n",
       "    </tr>\n",
       "    <tr>\n",
       "      <th>7</th>\n",
       "      <td>host_acceptance_rate</td>\n",
       "      <td>Percentage of times the Host accepts a booking...</td>\n",
       "    </tr>\n",
       "    <tr>\n",
       "      <th>8</th>\n",
       "      <td>host_is_superhost</td>\n",
       "      <td>Binary field to determine if the Host is a Sup...</td>\n",
       "    </tr>\n",
       "    <tr>\n",
       "      <th>9</th>\n",
       "      <td>host_total_listings_count</td>\n",
       "      <td>Total listings the Host has in Airbnb</td>\n",
       "    </tr>\n",
       "    <tr>\n",
       "      <th>10</th>\n",
       "      <td>host_has_profile_pic</td>\n",
       "      <td>Binary field to determine if the Host has a pr...</td>\n",
       "    </tr>\n",
       "    <tr>\n",
       "      <th>11</th>\n",
       "      <td>host_identity_verified</td>\n",
       "      <td>Binary field to determine if the Host has a ve...</td>\n",
       "    </tr>\n",
       "    <tr>\n",
       "      <th>12</th>\n",
       "      <td>neighbourhood</td>\n",
       "      <td>Neighborhood the Listing is in</td>\n",
       "    </tr>\n",
       "    <tr>\n",
       "      <th>13</th>\n",
       "      <td>district</td>\n",
       "      <td>District the Listing is in</td>\n",
       "    </tr>\n",
       "    <tr>\n",
       "      <th>14</th>\n",
       "      <td>city</td>\n",
       "      <td>City the Listing is in</td>\n",
       "    </tr>\n",
       "    <tr>\n",
       "      <th>15</th>\n",
       "      <td>latitude</td>\n",
       "      <td>Listing's latitude</td>\n",
       "    </tr>\n",
       "    <tr>\n",
       "      <th>16</th>\n",
       "      <td>longitude</td>\n",
       "      <td>Listing's longitude</td>\n",
       "    </tr>\n",
       "    <tr>\n",
       "      <th>17</th>\n",
       "      <td>property_type</td>\n",
       "      <td>Type of property for the Listing</td>\n",
       "    </tr>\n",
       "    <tr>\n",
       "      <th>18</th>\n",
       "      <td>room_type</td>\n",
       "      <td>Type of room type in Airbnb for the Listing</td>\n",
       "    </tr>\n",
       "    <tr>\n",
       "      <th>19</th>\n",
       "      <td>accommodates</td>\n",
       "      <td>Guests the Listing accomodates</td>\n",
       "    </tr>\n",
       "    <tr>\n",
       "      <th>20</th>\n",
       "      <td>bedrooms</td>\n",
       "      <td>Bedrooms in the Listing</td>\n",
       "    </tr>\n",
       "    <tr>\n",
       "      <th>21</th>\n",
       "      <td>amenities</td>\n",
       "      <td>Amenities the Listing includes</td>\n",
       "    </tr>\n",
       "    <tr>\n",
       "      <th>22</th>\n",
       "      <td>price</td>\n",
       "      <td>Listing price (in each country's currency)</td>\n",
       "    </tr>\n",
       "    <tr>\n",
       "      <th>23</th>\n",
       "      <td>minimum_nights</td>\n",
       "      <td>Minimum nights per booking</td>\n",
       "    </tr>\n",
       "    <tr>\n",
       "      <th>24</th>\n",
       "      <td>maximum_nights</td>\n",
       "      <td>Maximum nights per booking</td>\n",
       "    </tr>\n",
       "    <tr>\n",
       "      <th>25</th>\n",
       "      <td>review_scores_rating</td>\n",
       "      <td>Listing's overall rating (out of 100)</td>\n",
       "    </tr>\n",
       "    <tr>\n",
       "      <th>26</th>\n",
       "      <td>review_scores_accuracy</td>\n",
       "      <td>Listing's accuracy score based on what's promo...</td>\n",
       "    </tr>\n",
       "    <tr>\n",
       "      <th>27</th>\n",
       "      <td>review_scores_cleanliness</td>\n",
       "      <td>Listing's cleanliness score (out of 10)</td>\n",
       "    </tr>\n",
       "    <tr>\n",
       "      <th>28</th>\n",
       "      <td>review_scores_checkin</td>\n",
       "      <td>Listing's check-in experience score (out of 10)</td>\n",
       "    </tr>\n",
       "    <tr>\n",
       "      <th>29</th>\n",
       "      <td>review_scores_communication</td>\n",
       "      <td>Listing's communication with the Host score (o...</td>\n",
       "    </tr>\n",
       "    <tr>\n",
       "      <th>30</th>\n",
       "      <td>review_scores_location</td>\n",
       "      <td>Listing's location score within the city (out ...</td>\n",
       "    </tr>\n",
       "    <tr>\n",
       "      <th>31</th>\n",
       "      <td>review_scores_value</td>\n",
       "      <td>Listing's value score relative to its price (o...</td>\n",
       "    </tr>\n",
       "    <tr>\n",
       "      <th>32</th>\n",
       "      <td>instant_bookable</td>\n",
       "      <td>Binary field to determine if the Listing can b...</td>\n",
       "    </tr>\n",
       "  </tbody>\n",
       "</table>\n",
       "</div>"
      ],
      "text/plain": [
       "                          Field  \\\n",
       "0                    listing_id   \n",
       "1                          name   \n",
       "2                       host_id   \n",
       "3                    host_since   \n",
       "4                 host_location   \n",
       "5            host_response_time   \n",
       "6            host_response_rate   \n",
       "7          host_acceptance_rate   \n",
       "8             host_is_superhost   \n",
       "9     host_total_listings_count   \n",
       "10         host_has_profile_pic   \n",
       "11       host_identity_verified   \n",
       "12                neighbourhood   \n",
       "13                     district   \n",
       "14                         city   \n",
       "15                     latitude   \n",
       "16                    longitude   \n",
       "17                property_type   \n",
       "18                    room_type   \n",
       "19                 accommodates   \n",
       "20                     bedrooms   \n",
       "21                    amenities   \n",
       "22                        price   \n",
       "23               minimum_nights   \n",
       "24               maximum_nights   \n",
       "25         review_scores_rating   \n",
       "26       review_scores_accuracy   \n",
       "27    review_scores_cleanliness   \n",
       "28        review_scores_checkin   \n",
       "29  review_scores_communication   \n",
       "30       review_scores_location   \n",
       "31          review_scores_value   \n",
       "32             instant_bookable   \n",
       "\n",
       "                                          Description  \n",
       "0                                          Listing ID  \n",
       "1                                        Listing Name  \n",
       "2                                             Host ID  \n",
       "3                         Date the Host joined Airbnb  \n",
       "4                    Location where the Host is based  \n",
       "5      Estimate of how long the Host takes to respond  \n",
       "6               Percentage of times the Host responds  \n",
       "7   Percentage of times the Host accepts a booking...  \n",
       "8   Binary field to determine if the Host is a Sup...  \n",
       "9               Total listings the Host has in Airbnb  \n",
       "10  Binary field to determine if the Host has a pr...  \n",
       "11  Binary field to determine if the Host has a ve...  \n",
       "12                     Neighborhood the Listing is in  \n",
       "13                         District the Listing is in  \n",
       "14                             City the Listing is in  \n",
       "15                                 Listing's latitude  \n",
       "16                                Listing's longitude  \n",
       "17                   Type of property for the Listing  \n",
       "18        Type of room type in Airbnb for the Listing  \n",
       "19                     Guests the Listing accomodates  \n",
       "20                            Bedrooms in the Listing  \n",
       "21                     Amenities the Listing includes  \n",
       "22         Listing price (in each country's currency)  \n",
       "23                         Minimum nights per booking  \n",
       "24                         Maximum nights per booking  \n",
       "25              Listing's overall rating (out of 100)  \n",
       "26  Listing's accuracy score based on what's promo...  \n",
       "27            Listing's cleanliness score (out of 10)  \n",
       "28    Listing's check-in experience score (out of 10)  \n",
       "29  Listing's communication with the Host score (o...  \n",
       "30  Listing's location score within the city (out ...  \n",
       "31  Listing's value score relative to its price (o...  \n",
       "32  Binary field to determine if the Listing can b...  "
      ]
     },
     "execution_count": 4,
     "metadata": {},
     "output_type": "execute_result"
    }
   ],
   "source": [
    "review = pd.read_csv(r\"/kaggle/input/airbnb-listings-reviews/Airbnb Data/Listings_data_dictionary.csv\")\n",
    "\n",
    "\n",
    "review\n"
   ]
  },
  {
   "cell_type": "markdown",
   "id": "9a848f95",
   "metadata": {
    "papermill": {
     "duration": 0.011219,
     "end_time": "2025-09-09T09:40:35.942970",
     "exception": false,
     "start_time": "2025-09-09T09:40:35.931751",
     "status": "completed"
    },
    "tags": []
   },
   "source": [
    "<div style=\"\n",
    "    background-color:yellow; \n",
    "    color: black; \n",
    "    padding: 15px; \n",
    "    border-radius: 10px; \n",
    "    text-align: center; \n",
    "    font-size: 28px; \n",
    "    font-weight: bold;\n",
    "\">\n",
    "    Importing Data and Exploring Column Information\n",
    "</div>\n"
   ]
  },
  {
   "cell_type": "code",
   "execution_count": 5,
   "id": "1bbb657b",
   "metadata": {
    "execution": {
     "iopub.execute_input": "2025-09-09T09:40:35.967596Z",
     "iopub.status.busy": "2025-09-09T09:40:35.967231Z",
     "iopub.status.idle": "2025-09-09T09:40:35.971293Z",
     "shell.execute_reply": "2025-09-09T09:40:35.970539Z"
    },
    "papermill": {
     "duration": 0.01824,
     "end_time": "2025-09-09T09:40:35.972678",
     "exception": false,
     "start_time": "2025-09-09T09:40:35.954438",
     "status": "completed"
    },
    "tags": []
   },
   "outputs": [],
   "source": [
    "# here we will write code for ignoring warnings\n",
    "import warnings\n",
    "warnings.filterwarnings(\"ignore\")\n"
   ]
  },
  {
   "cell_type": "code",
   "execution_count": 6,
   "id": "3f191a0f",
   "metadata": {
    "execution": {
     "iopub.execute_input": "2025-09-09T09:40:35.997315Z",
     "iopub.status.busy": "2025-09-09T09:40:35.997038Z",
     "iopub.status.idle": "2025-09-09T09:40:41.814475Z",
     "shell.execute_reply": "2025-09-09T09:40:41.813414Z"
    },
    "papermill": {
     "duration": 5.831633,
     "end_time": "2025-09-09T09:40:41.815938",
     "exception": false,
     "start_time": "2025-09-09T09:40:35.984305",
     "status": "completed"
    },
    "tags": []
   },
   "outputs": [
    {
     "data": {
      "text/html": [
       "<div>\n",
       "<style scoped>\n",
       "    .dataframe tbody tr th:only-of-type {\n",
       "        vertical-align: middle;\n",
       "    }\n",
       "\n",
       "    .dataframe tbody tr th {\n",
       "        vertical-align: top;\n",
       "    }\n",
       "\n",
       "    .dataframe thead th {\n",
       "        text-align: right;\n",
       "    }\n",
       "</style>\n",
       "<table border=\"1\" class=\"dataframe\">\n",
       "  <thead>\n",
       "    <tr style=\"text-align: right;\">\n",
       "      <th></th>\n",
       "      <th>listing_id</th>\n",
       "      <th>name</th>\n",
       "      <th>host_id</th>\n",
       "      <th>host_since</th>\n",
       "      <th>host_location</th>\n",
       "      <th>host_response_time</th>\n",
       "      <th>host_response_rate</th>\n",
       "      <th>host_acceptance_rate</th>\n",
       "      <th>host_is_superhost</th>\n",
       "      <th>host_total_listings_count</th>\n",
       "      <th>...</th>\n",
       "      <th>minimum_nights</th>\n",
       "      <th>maximum_nights</th>\n",
       "      <th>review_scores_rating</th>\n",
       "      <th>review_scores_accuracy</th>\n",
       "      <th>review_scores_cleanliness</th>\n",
       "      <th>review_scores_checkin</th>\n",
       "      <th>review_scores_communication</th>\n",
       "      <th>review_scores_location</th>\n",
       "      <th>review_scores_value</th>\n",
       "      <th>instant_bookable</th>\n",
       "    </tr>\n",
       "  </thead>\n",
       "  <tbody>\n",
       "    <tr>\n",
       "      <th>0</th>\n",
       "      <td>281420</td>\n",
       "      <td>Beautiful Flat in le Village Montmartre, Paris</td>\n",
       "      <td>1466919</td>\n",
       "      <td>2011-12-03</td>\n",
       "      <td>Paris, Ile-de-France, France</td>\n",
       "      <td>NaN</td>\n",
       "      <td>NaN</td>\n",
       "      <td>NaN</td>\n",
       "      <td>f</td>\n",
       "      <td>1.0</td>\n",
       "      <td>...</td>\n",
       "      <td>2</td>\n",
       "      <td>1125</td>\n",
       "      <td>100.0</td>\n",
       "      <td>10.0</td>\n",
       "      <td>10.0</td>\n",
       "      <td>10.0</td>\n",
       "      <td>10.0</td>\n",
       "      <td>10.0</td>\n",
       "      <td>10.0</td>\n",
       "      <td>f</td>\n",
       "    </tr>\n",
       "    <tr>\n",
       "      <th>1</th>\n",
       "      <td>3705183</td>\n",
       "      <td>39 mÃÂ² Paris (Sacre CÃ",
       "âur)</td>\n",
       "      <td>10328771</td>\n",
       "      <td>2013-11-29</td>\n",
       "      <td>Paris, Ile-de-France, France</td>\n",
       "      <td>NaN</td>\n",
       "      <td>NaN</td>\n",
       "      <td>NaN</td>\n",
       "      <td>f</td>\n",
       "      <td>1.0</td>\n",
       "      <td>...</td>\n",
       "      <td>2</td>\n",
       "      <td>1125</td>\n",
       "      <td>100.0</td>\n",
       "      <td>10.0</td>\n",
       "      <td>10.0</td>\n",
       "      <td>10.0</td>\n",
       "      <td>10.0</td>\n",
       "      <td>10.0</td>\n",
       "      <td>10.0</td>\n",
       "      <td>f</td>\n",
       "    </tr>\n",
       "    <tr>\n",
       "      <th>2</th>\n",
       "      <td>4082273</td>\n",
       "      <td>Lovely apartment with Terrace, 60m2</td>\n",
       "      <td>19252768</td>\n",
       "      <td>2014-07-31</td>\n",
       "      <td>Paris, Ile-de-France, France</td>\n",
       "      <td>NaN</td>\n",
       "      <td>NaN</td>\n",
       "      <td>NaN</td>\n",
       "      <td>f</td>\n",
       "      <td>1.0</td>\n",
       "      <td>...</td>\n",
       "      <td>2</td>\n",
       "      <td>1125</td>\n",
       "      <td>100.0</td>\n",
       "      <td>10.0</td>\n",
       "      <td>10.0</td>\n",
       "      <td>10.0</td>\n",
       "      <td>10.0</td>\n",
       "      <td>10.0</td>\n",
       "      <td>10.0</td>\n",
       "      <td>f</td>\n",
       "    </tr>\n",
       "    <tr>\n",
       "      <th>3</th>\n",
       "      <td>4797344</td>\n",
       "      <td>Cosy studio (close to Eiffel tower)</td>\n",
       "      <td>10668311</td>\n",
       "      <td>2013-12-17</td>\n",
       "      <td>Paris, Ile-de-France, France</td>\n",
       "      <td>NaN</td>\n",
       "      <td>NaN</td>\n",
       "      <td>NaN</td>\n",
       "      <td>f</td>\n",
       "      <td>1.0</td>\n",
       "      <td>...</td>\n",
       "      <td>2</td>\n",
       "      <td>1125</td>\n",
       "      <td>100.0</td>\n",
       "      <td>10.0</td>\n",
       "      <td>10.0</td>\n",
       "      <td>10.0</td>\n",
       "      <td>10.0</td>\n",
       "      <td>10.0</td>\n",
       "      <td>10.0</td>\n",
       "      <td>f</td>\n",
       "    </tr>\n",
       "    <tr>\n",
       "      <th>4</th>\n",
       "      <td>4823489</td>\n",
       "      <td>Close to Eiffel Tower - Beautiful flat : 2 rooms</td>\n",
       "      <td>24837558</td>\n",
       "      <td>2014-12-14</td>\n",
       "      <td>Paris, Ile-de-France, France</td>\n",
       "      <td>NaN</td>\n",
       "      <td>NaN</td>\n",
       "      <td>NaN</td>\n",
       "      <td>f</td>\n",
       "      <td>1.0</td>\n",
       "      <td>...</td>\n",
       "      <td>2</td>\n",
       "      <td>1125</td>\n",
       "      <td>100.0</td>\n",
       "      <td>10.0</td>\n",
       "      <td>10.0</td>\n",
       "      <td>10.0</td>\n",
       "      <td>10.0</td>\n",
       "      <td>10.0</td>\n",
       "      <td>10.0</td>\n",
       "      <td>f</td>\n",
       "    </tr>\n",
       "  </tbody>\n",
       "</table>\n",
       "<p>5 rows × 33 columns</p>\n",
       "</div>"
      ],
      "text/plain": [
       "   listing_id                                              name   host_id  \\\n",
       "0      281420    Beautiful Flat in le Village Montmartre, Paris   1466919   \n",
       "1     3705183                   39 mÃÂ² Paris (Sacre CÃ\n",
       "âur)  10328771   \n",
       "2     4082273               Lovely apartment with Terrace, 60m2  19252768   \n",
       "3     4797344               Cosy studio (close to Eiffel tower)  10668311   \n",
       "4     4823489  Close to Eiffel Tower - Beautiful flat : 2 rooms  24837558   \n",
       "\n",
       "   host_since                 host_location host_response_time  \\\n",
       "0  2011-12-03  Paris, Ile-de-France, France                NaN   \n",
       "1  2013-11-29  Paris, Ile-de-France, France                NaN   \n",
       "2  2014-07-31  Paris, Ile-de-France, France                NaN   \n",
       "3  2013-12-17  Paris, Ile-de-France, France                NaN   \n",
       "4  2014-12-14  Paris, Ile-de-France, France                NaN   \n",
       "\n",
       "   host_response_rate  host_acceptance_rate host_is_superhost  \\\n",
       "0                 NaN                   NaN                 f   \n",
       "1                 NaN                   NaN                 f   \n",
       "2                 NaN                   NaN                 f   \n",
       "3                 NaN                   NaN                 f   \n",
       "4                 NaN                   NaN                 f   \n",
       "\n",
       "   host_total_listings_count  ... minimum_nights maximum_nights  \\\n",
       "0                        1.0  ...              2           1125   \n",
       "1                        1.0  ...              2           1125   \n",
       "2                        1.0  ...              2           1125   \n",
       "3                        1.0  ...              2           1125   \n",
       "4                        1.0  ...              2           1125   \n",
       "\n",
       "  review_scores_rating review_scores_accuracy review_scores_cleanliness  \\\n",
       "0                100.0                   10.0                      10.0   \n",
       "1                100.0                   10.0                      10.0   \n",
       "2                100.0                   10.0                      10.0   \n",
       "3                100.0                   10.0                      10.0   \n",
       "4                100.0                   10.0                      10.0   \n",
       "\n",
       "   review_scores_checkin  review_scores_communication review_scores_location  \\\n",
       "0                   10.0                         10.0                   10.0   \n",
       "1                   10.0                         10.0                   10.0   \n",
       "2                   10.0                         10.0                   10.0   \n",
       "3                   10.0                         10.0                   10.0   \n",
       "4                   10.0                         10.0                   10.0   \n",
       "\n",
       "  review_scores_value  instant_bookable  \n",
       "0                10.0                 f  \n",
       "1                10.0                 f  \n",
       "2                10.0                 f  \n",
       "3                10.0                 f  \n",
       "4                10.0                 f  \n",
       "\n",
       "[5 rows x 33 columns]"
      ]
     },
     "execution_count": 6,
     "metadata": {},
     "output_type": "execute_result"
    }
   ],
   "source": [
    "listings = pd.read_csv(r\"/kaggle/input/airbnb-listings-reviews/Airbnb Data/Listings.csv\",encoding=\"latin1\",low_memory=False)\n",
    "listings.head()"
   ]
  },
  {
   "cell_type": "code",
   "execution_count": 7,
   "id": "bf627dfe",
   "metadata": {
    "execution": {
     "iopub.execute_input": "2025-09-09T09:40:41.843710Z",
     "iopub.status.busy": "2025-09-09T09:40:41.843406Z",
     "iopub.status.idle": "2025-09-09T09:40:42.088520Z",
     "shell.execute_reply": "2025-09-09T09:40:42.087190Z"
    },
    "papermill": {
     "duration": 0.261009,
     "end_time": "2025-09-09T09:40:42.090166",
     "exception": false,
     "start_time": "2025-09-09T09:40:41.829157",
     "status": "completed"
    },
    "tags": []
   },
   "outputs": [
    {
     "name": "stdout",
     "output_type": "stream",
     "text": [
      "<class 'pandas.core.frame.DataFrame'>\n",
      "RangeIndex: 279712 entries, 0 to 279711\n",
      "Data columns (total 33 columns):\n",
      " #   Column                       Non-Null Count   Dtype  \n",
      "---  ------                       --------------   -----  \n",
      " 0   listing_id                   279712 non-null  int64  \n",
      " 1   name                         279537 non-null  object \n",
      " 2   host_id                      279712 non-null  int64  \n",
      " 3   host_since                   279547 non-null  object \n",
      " 4   host_location                278872 non-null  object \n",
      " 5   host_response_time           150930 non-null  object \n",
      " 6   host_response_rate           150930 non-null  float64\n",
      " 7   host_acceptance_rate         166625 non-null  float64\n",
      " 8   host_is_superhost            279547 non-null  object \n",
      " 9   host_total_listings_count    279547 non-null  float64\n",
      " 10  host_has_profile_pic         279547 non-null  object \n",
      " 11  host_identity_verified       279547 non-null  object \n",
      " 12  neighbourhood                279712 non-null  object \n",
      " 13  district                     37012 non-null   object \n",
      " 14  city                         279712 non-null  object \n",
      " 15  latitude                     279712 non-null  float64\n",
      " 16  longitude                    279712 non-null  float64\n",
      " 17  property_type                279712 non-null  object \n",
      " 18  room_type                    279712 non-null  object \n",
      " 19  accommodates                 279712 non-null  int64  \n",
      " 20  bedrooms                     250277 non-null  float64\n",
      " 21  amenities                    279712 non-null  object \n",
      " 22  price                        279712 non-null  int64  \n",
      " 23  minimum_nights               279712 non-null  int64  \n",
      " 24  maximum_nights               279712 non-null  int64  \n",
      " 25  review_scores_rating         188307 non-null  float64\n",
      " 26  review_scores_accuracy       187999 non-null  float64\n",
      " 27  review_scores_cleanliness    188047 non-null  float64\n",
      " 28  review_scores_checkin        187941 non-null  float64\n",
      " 29  review_scores_communication  188025 non-null  float64\n",
      " 30  review_scores_location       187937 non-null  float64\n",
      " 31  review_scores_value          187927 non-null  float64\n",
      " 32  instant_bookable             279712 non-null  object \n",
      "dtypes: float64(13), int64(6), object(14)\n",
      "memory usage: 70.4+ MB\n"
     ]
    }
   ],
   "source": [
    "listings.info() # we dont need all columns and and all rows "
   ]
  },
  {
   "cell_type": "code",
   "execution_count": 8,
   "id": "aae13b6b",
   "metadata": {
    "execution": {
     "iopub.execute_input": "2025-09-09T09:40:42.116017Z",
     "iopub.status.busy": "2025-09-09T09:40:42.115688Z",
     "iopub.status.idle": "2025-09-09T09:40:42.138066Z",
     "shell.execute_reply": "2025-09-09T09:40:42.137275Z"
    },
    "papermill": {
     "duration": 0.036956,
     "end_time": "2025-09-09T09:40:42.139516",
     "exception": false,
     "start_time": "2025-09-09T09:40:42.102560",
     "status": "completed"
    },
    "tags": []
   },
   "outputs": [
    {
     "data": {
      "text/plain": [
       "city\n",
       "Paris             64690\n",
       "New York          37012\n",
       "Sydney            33630\n",
       "Rome              27647\n",
       "Rio de Janeiro    26615\n",
       "Istanbul          24519\n",
       "Mexico City       20065\n",
       "Bangkok           19361\n",
       "Cape Town         19086\n",
       "Hong Kong          7087\n",
       "Name: count, dtype: int64"
      ]
     },
     "execution_count": 8,
     "metadata": {},
     "output_type": "execute_result"
    }
   ],
   "source": [
    "# data frame \n",
    "listings[\"city\"].value_counts() # now we want only paris , we only want to keep rows with paris \n",
    "## has to do filtering"
   ]
  },
  {
   "cell_type": "code",
   "execution_count": 9,
   "id": "34362697",
   "metadata": {
    "execution": {
     "iopub.execute_input": "2025-09-09T09:40:42.232370Z",
     "iopub.status.busy": "2025-09-09T09:40:42.232048Z",
     "iopub.status.idle": "2025-09-09T09:40:42.294614Z",
     "shell.execute_reply": "2025-09-09T09:40:42.293354Z"
    },
    "papermill": {
     "duration": 0.077675,
     "end_time": "2025-09-09T09:40:42.296143",
     "exception": false,
     "start_time": "2025-09-09T09:40:42.218468",
     "status": "completed"
    },
    "tags": []
   },
   "outputs": [
    {
     "name": "stdout",
     "output_type": "stream",
     "text": [
      "<class 'pandas.core.frame.DataFrame'>\n",
      "Index: 64690 entries, 0 to 279711\n",
      "Data columns (total 6 columns):\n",
      " #   Column         Non-Null Count  Dtype \n",
      "---  ------         --------------  ----- \n",
      " 0   listing_id     64690 non-null  int64 \n",
      " 1   host_since     64657 non-null  object\n",
      " 2   neighbourhood  64690 non-null  object\n",
      " 3   city           64690 non-null  object\n",
      " 4   accommodates   64690 non-null  int64 \n",
      " 5   price          64690 non-null  int64 \n",
      "dtypes: int64(3), object(3)\n",
      "memory usage: 3.5+ MB\n"
     ]
    }
   ],
   "source": [
    "# HERE WE WILL FILTER COLUMNS ,, we have kept only few columns \n",
    "paris_listings = listings[listings[\"city\"] == \"Paris\"]\n",
    "paris_listings = paris_listings.loc[:,[\"listing_id\" , \"host_since\", \"neighbourhood\" , \"city\" , \"accommodates\" , \"price\"]] # we have done slicing here \n",
    "paris_listings.info()"
   ]
  },
  {
   "cell_type": "markdown",
   "id": "48f3de11",
   "metadata": {
    "papermill": {
     "duration": 0.011937,
     "end_time": "2025-09-09T09:40:42.320483",
     "exception": false,
     "start_time": "2025-09-09T09:40:42.308546",
     "status": "completed"
    },
    "tags": []
   },
   "source": [
    "<div style=\"\n",
    "    background-color: yellow; \n",
    "    color: black; \n",
    "    padding: 15px; \n",
    "    border-radius: 10px; \n",
    "    text-align: center; \n",
    "    font-size: 28px; \n",
    "    font-weight: bold;\n",
    "\">\n",
    "    Filtering rows to show only Paris data along with relevant columns\n",
    "</div>\n"
   ]
  },
  {
   "cell_type": "code",
   "execution_count": 10,
   "id": "3431003b",
   "metadata": {
    "execution": {
     "iopub.execute_input": "2025-09-09T09:40:42.347120Z",
     "iopub.status.busy": "2025-09-09T09:40:42.346146Z",
     "iopub.status.idle": "2025-09-09T09:40:42.429986Z",
     "shell.execute_reply": "2025-09-09T09:40:42.429175Z"
    },
    "papermill": {
     "duration": 0.098751,
     "end_time": "2025-09-09T09:40:42.431582",
     "exception": false,
     "start_time": "2025-09-09T09:40:42.332831",
     "status": "completed"
    },
    "tags": []
   },
   "outputs": [
    {
     "data": {
      "text/html": [
       "<div>\n",
       "<style scoped>\n",
       "    .dataframe tbody tr th:only-of-type {\n",
       "        vertical-align: middle;\n",
       "    }\n",
       "\n",
       "    .dataframe tbody tr th {\n",
       "        vertical-align: top;\n",
       "    }\n",
       "\n",
       "    .dataframe thead th {\n",
       "        text-align: right;\n",
       "    }\n",
       "</style>\n",
       "<table border=\"1\" class=\"dataframe\">\n",
       "  <thead>\n",
       "    <tr style=\"text-align: right;\">\n",
       "      <th></th>\n",
       "      <th>listing_id</th>\n",
       "      <th>name</th>\n",
       "      <th>host_id</th>\n",
       "      <th>host_since</th>\n",
       "      <th>host_location</th>\n",
       "      <th>host_response_time</th>\n",
       "      <th>host_response_rate</th>\n",
       "      <th>host_acceptance_rate</th>\n",
       "      <th>host_is_superhost</th>\n",
       "      <th>host_total_listings_count</th>\n",
       "      <th>...</th>\n",
       "      <th>minimum_nights</th>\n",
       "      <th>maximum_nights</th>\n",
       "      <th>review_scores_rating</th>\n",
       "      <th>review_scores_accuracy</th>\n",
       "      <th>review_scores_cleanliness</th>\n",
       "      <th>review_scores_checkin</th>\n",
       "      <th>review_scores_communication</th>\n",
       "      <th>review_scores_location</th>\n",
       "      <th>review_scores_value</th>\n",
       "      <th>instant_bookable</th>\n",
       "    </tr>\n",
       "  </thead>\n",
       "  <tbody>\n",
       "    <tr>\n",
       "      <th>0</th>\n",
       "      <td>281420</td>\n",
       "      <td>Beautiful Flat in le Village Montmartre, Paris</td>\n",
       "      <td>1466919</td>\n",
       "      <td>2011-12-03</td>\n",
       "      <td>Paris, Ile-de-France, France</td>\n",
       "      <td>NaN</td>\n",
       "      <td>NaN</td>\n",
       "      <td>NaN</td>\n",
       "      <td>f</td>\n",
       "      <td>1.0</td>\n",
       "      <td>...</td>\n",
       "      <td>2</td>\n",
       "      <td>1125</td>\n",
       "      <td>100.0</td>\n",
       "      <td>10.0</td>\n",
       "      <td>10.0</td>\n",
       "      <td>10.0</td>\n",
       "      <td>10.0</td>\n",
       "      <td>10.0</td>\n",
       "      <td>10.0</td>\n",
       "      <td>f</td>\n",
       "    </tr>\n",
       "    <tr>\n",
       "      <th>1</th>\n",
       "      <td>3705183</td>\n",
       "      <td>39 mÃÂ² Paris (Sacre CÃ",
       "âur)</td>\n",
       "      <td>10328771</td>\n",
       "      <td>2013-11-29</td>\n",
       "      <td>Paris, Ile-de-France, France</td>\n",
       "      <td>NaN</td>\n",
       "      <td>NaN</td>\n",
       "      <td>NaN</td>\n",
       "      <td>f</td>\n",
       "      <td>1.0</td>\n",
       "      <td>...</td>\n",
       "      <td>2</td>\n",
       "      <td>1125</td>\n",
       "      <td>100.0</td>\n",
       "      <td>10.0</td>\n",
       "      <td>10.0</td>\n",
       "      <td>10.0</td>\n",
       "      <td>10.0</td>\n",
       "      <td>10.0</td>\n",
       "      <td>10.0</td>\n",
       "      <td>f</td>\n",
       "    </tr>\n",
       "    <tr>\n",
       "      <th>2</th>\n",
       "      <td>4082273</td>\n",
       "      <td>Lovely apartment with Terrace, 60m2</td>\n",
       "      <td>19252768</td>\n",
       "      <td>2014-07-31</td>\n",
       "      <td>Paris, Ile-de-France, France</td>\n",
       "      <td>NaN</td>\n",
       "      <td>NaN</td>\n",
       "      <td>NaN</td>\n",
       "      <td>f</td>\n",
       "      <td>1.0</td>\n",
       "      <td>...</td>\n",
       "      <td>2</td>\n",
       "      <td>1125</td>\n",
       "      <td>100.0</td>\n",
       "      <td>10.0</td>\n",
       "      <td>10.0</td>\n",
       "      <td>10.0</td>\n",
       "      <td>10.0</td>\n",
       "      <td>10.0</td>\n",
       "      <td>10.0</td>\n",
       "      <td>f</td>\n",
       "    </tr>\n",
       "    <tr>\n",
       "      <th>3</th>\n",
       "      <td>4797344</td>\n",
       "      <td>Cosy studio (close to Eiffel tower)</td>\n",
       "      <td>10668311</td>\n",
       "      <td>2013-12-17</td>\n",
       "      <td>Paris, Ile-de-France, France</td>\n",
       "      <td>NaN</td>\n",
       "      <td>NaN</td>\n",
       "      <td>NaN</td>\n",
       "      <td>f</td>\n",
       "      <td>1.0</td>\n",
       "      <td>...</td>\n",
       "      <td>2</td>\n",
       "      <td>1125</td>\n",
       "      <td>100.0</td>\n",
       "      <td>10.0</td>\n",
       "      <td>10.0</td>\n",
       "      <td>10.0</td>\n",
       "      <td>10.0</td>\n",
       "      <td>10.0</td>\n",
       "      <td>10.0</td>\n",
       "      <td>f</td>\n",
       "    </tr>\n",
       "    <tr>\n",
       "      <th>4</th>\n",
       "      <td>4823489</td>\n",
       "      <td>Close to Eiffel Tower - Beautiful flat : 2 rooms</td>\n",
       "      <td>24837558</td>\n",
       "      <td>2014-12-14</td>\n",
       "      <td>Paris, Ile-de-France, France</td>\n",
       "      <td>NaN</td>\n",
       "      <td>NaN</td>\n",
       "      <td>NaN</td>\n",
       "      <td>f</td>\n",
       "      <td>1.0</td>\n",
       "      <td>...</td>\n",
       "      <td>2</td>\n",
       "      <td>1125</td>\n",
       "      <td>100.0</td>\n",
       "      <td>10.0</td>\n",
       "      <td>10.0</td>\n",
       "      <td>10.0</td>\n",
       "      <td>10.0</td>\n",
       "      <td>10.0</td>\n",
       "      <td>10.0</td>\n",
       "      <td>f</td>\n",
       "    </tr>\n",
       "    <tr>\n",
       "      <th>...</th>\n",
       "      <td>...</td>\n",
       "      <td>...</td>\n",
       "      <td>...</td>\n",
       "      <td>...</td>\n",
       "      <td>...</td>\n",
       "      <td>...</td>\n",
       "      <td>...</td>\n",
       "      <td>...</td>\n",
       "      <td>...</td>\n",
       "      <td>...</td>\n",
       "      <td>...</td>\n",
       "      <td>...</td>\n",
       "      <td>...</td>\n",
       "      <td>...</td>\n",
       "      <td>...</td>\n",
       "      <td>...</td>\n",
       "      <td>...</td>\n",
       "      <td>...</td>\n",
       "      <td>...</td>\n",
       "      <td>...</td>\n",
       "      <td>...</td>\n",
       "    </tr>\n",
       "    <tr>\n",
       "      <th>279707</th>\n",
       "      <td>38338635</td>\n",
       "      <td>Appartement T2 neuf prÃÂ¨s du tram T3a Porte ...</td>\n",
       "      <td>31161181</td>\n",
       "      <td>2015-04-13</td>\n",
       "      <td>Paris, Ile-de-France, France</td>\n",
       "      <td>NaN</td>\n",
       "      <td>NaN</td>\n",
       "      <td>NaN</td>\n",
       "      <td>f</td>\n",
       "      <td>1.0</td>\n",
       "      <td>...</td>\n",
       "      <td>1</td>\n",
       "      <td>7</td>\n",
       "      <td>100.0</td>\n",
       "      <td>10.0</td>\n",
       "      <td>10.0</td>\n",
       "      <td>10.0</td>\n",
       "      <td>10.0</td>\n",
       "      <td>10.0</td>\n",
       "      <td>10.0</td>\n",
       "      <td>f</td>\n",
       "    </tr>\n",
       "    <tr>\n",
       "      <th>279708</th>\n",
       "      <td>38538692</td>\n",
       "      <td>Cozy Studio in Montmartre</td>\n",
       "      <td>10294858</td>\n",
       "      <td>2013-11-27</td>\n",
       "      <td>Paris, Ile-de-France, France</td>\n",
       "      <td>NaN</td>\n",
       "      <td>NaN</td>\n",
       "      <td>NaN</td>\n",
       "      <td>f</td>\n",
       "      <td>1.0</td>\n",
       "      <td>...</td>\n",
       "      <td>7</td>\n",
       "      <td>15</td>\n",
       "      <td>100.0</td>\n",
       "      <td>10.0</td>\n",
       "      <td>10.0</td>\n",
       "      <td>10.0</td>\n",
       "      <td>10.0</td>\n",
       "      <td>10.0</td>\n",
       "      <td>10.0</td>\n",
       "      <td>f</td>\n",
       "    </tr>\n",
       "    <tr>\n",
       "      <th>279709</th>\n",
       "      <td>38683356</td>\n",
       "      <td>Nice and cosy mini-appartement in Paris</td>\n",
       "      <td>2238502</td>\n",
       "      <td>2012-04-27</td>\n",
       "      <td>Paris, Ile-de-France, France</td>\n",
       "      <td>NaN</td>\n",
       "      <td>NaN</td>\n",
       "      <td>NaN</td>\n",
       "      <td>f</td>\n",
       "      <td>1.0</td>\n",
       "      <td>...</td>\n",
       "      <td>6</td>\n",
       "      <td>30</td>\n",
       "      <td>100.0</td>\n",
       "      <td>10.0</td>\n",
       "      <td>10.0</td>\n",
       "      <td>10.0</td>\n",
       "      <td>10.0</td>\n",
       "      <td>10.0</td>\n",
       "      <td>10.0</td>\n",
       "      <td>f</td>\n",
       "    </tr>\n",
       "    <tr>\n",
       "      <th>279710</th>\n",
       "      <td>39659000</td>\n",
       "      <td>Charming apartment near Rue Saint Maur / Oberk...</td>\n",
       "      <td>38633695</td>\n",
       "      <td>2015-07-16</td>\n",
       "      <td>Paris, Ile-de-France, France</td>\n",
       "      <td>NaN</td>\n",
       "      <td>NaN</td>\n",
       "      <td>NaN</td>\n",
       "      <td>f</td>\n",
       "      <td>1.0</td>\n",
       "      <td>...</td>\n",
       "      <td>3</td>\n",
       "      <td>18</td>\n",
       "      <td>100.0</td>\n",
       "      <td>10.0</td>\n",
       "      <td>10.0</td>\n",
       "      <td>10.0</td>\n",
       "      <td>10.0</td>\n",
       "      <td>10.0</td>\n",
       "      <td>10.0</td>\n",
       "      <td>f</td>\n",
       "    </tr>\n",
       "    <tr>\n",
       "      <th>279711</th>\n",
       "      <td>40219504</td>\n",
       "      <td>Cosy apartment with view on Canal St Martin</td>\n",
       "      <td>6955618</td>\n",
       "      <td>2013-06-17</td>\n",
       "      <td>Paris, Ile-de-France, France</td>\n",
       "      <td>NaN</td>\n",
       "      <td>NaN</td>\n",
       "      <td>NaN</td>\n",
       "      <td>f</td>\n",
       "      <td>1.0</td>\n",
       "      <td>...</td>\n",
       "      <td>2</td>\n",
       "      <td>4</td>\n",
       "      <td>100.0</td>\n",
       "      <td>10.0</td>\n",
       "      <td>10.0</td>\n",
       "      <td>10.0</td>\n",
       "      <td>10.0</td>\n",
       "      <td>10.0</td>\n",
       "      <td>10.0</td>\n",
       "      <td>f</td>\n",
       "    </tr>\n",
       "  </tbody>\n",
       "</table>\n",
       "<p>64690 rows × 33 columns</p>\n",
       "</div>"
      ],
      "text/plain": [
       "        listing_id                                               name  \\\n",
       "0           281420     Beautiful Flat in le Village Montmartre, Paris   \n",
       "1          3705183                    39 mÃÂ² Paris (Sacre CÃ\n",
       "âur)   \n",
       "2          4082273                Lovely apartment with Terrace, 60m2   \n",
       "3          4797344                Cosy studio (close to Eiffel tower)   \n",
       "4          4823489   Close to Eiffel Tower - Beautiful flat : 2 rooms   \n",
       "...            ...                                                ...   \n",
       "279707    38338635  Appartement T2 neuf prÃÂ¨s du tram T3a Porte ...   \n",
       "279708    38538692                          Cozy Studio in Montmartre   \n",
       "279709    38683356            Nice and cosy mini-appartement in Paris   \n",
       "279710    39659000  Charming apartment near Rue Saint Maur / Oberk...   \n",
       "279711    40219504        Cosy apartment with view on Canal St Martin   \n",
       "\n",
       "         host_id  host_since                 host_location host_response_time  \\\n",
       "0        1466919  2011-12-03  Paris, Ile-de-France, France                NaN   \n",
       "1       10328771  2013-11-29  Paris, Ile-de-France, France                NaN   \n",
       "2       19252768  2014-07-31  Paris, Ile-de-France, France                NaN   \n",
       "3       10668311  2013-12-17  Paris, Ile-de-France, France                NaN   \n",
       "4       24837558  2014-12-14  Paris, Ile-de-France, France                NaN   \n",
       "...          ...         ...                           ...                ...   \n",
       "279707  31161181  2015-04-13  Paris, Ile-de-France, France                NaN   \n",
       "279708  10294858  2013-11-27  Paris, Ile-de-France, France                NaN   \n",
       "279709   2238502  2012-04-27  Paris, Ile-de-France, France                NaN   \n",
       "279710  38633695  2015-07-16  Paris, Ile-de-France, France                NaN   \n",
       "279711   6955618  2013-06-17  Paris, Ile-de-France, France                NaN   \n",
       "\n",
       "        host_response_rate  host_acceptance_rate host_is_superhost  \\\n",
       "0                      NaN                   NaN                 f   \n",
       "1                      NaN                   NaN                 f   \n",
       "2                      NaN                   NaN                 f   \n",
       "3                      NaN                   NaN                 f   \n",
       "4                      NaN                   NaN                 f   \n",
       "...                    ...                   ...               ...   \n",
       "279707                 NaN                   NaN                 f   \n",
       "279708                 NaN                   NaN                 f   \n",
       "279709                 NaN                   NaN                 f   \n",
       "279710                 NaN                   NaN                 f   \n",
       "279711                 NaN                   NaN                 f   \n",
       "\n",
       "        host_total_listings_count  ... minimum_nights maximum_nights  \\\n",
       "0                             1.0  ...              2           1125   \n",
       "1                             1.0  ...              2           1125   \n",
       "2                             1.0  ...              2           1125   \n",
       "3                             1.0  ...              2           1125   \n",
       "4                             1.0  ...              2           1125   \n",
       "...                           ...  ...            ...            ...   \n",
       "279707                        1.0  ...              1              7   \n",
       "279708                        1.0  ...              7             15   \n",
       "279709                        1.0  ...              6             30   \n",
       "279710                        1.0  ...              3             18   \n",
       "279711                        1.0  ...              2              4   \n",
       "\n",
       "       review_scores_rating review_scores_accuracy review_scores_cleanliness  \\\n",
       "0                     100.0                   10.0                      10.0   \n",
       "1                     100.0                   10.0                      10.0   \n",
       "2                     100.0                   10.0                      10.0   \n",
       "3                     100.0                   10.0                      10.0   \n",
       "4                     100.0                   10.0                      10.0   \n",
       "...                     ...                    ...                       ...   \n",
       "279707                100.0                   10.0                      10.0   \n",
       "279708                100.0                   10.0                      10.0   \n",
       "279709                100.0                   10.0                      10.0   \n",
       "279710                100.0                   10.0                      10.0   \n",
       "279711                100.0                   10.0                      10.0   \n",
       "\n",
       "        review_scores_checkin  review_scores_communication  \\\n",
       "0                        10.0                         10.0   \n",
       "1                        10.0                         10.0   \n",
       "2                        10.0                         10.0   \n",
       "3                        10.0                         10.0   \n",
       "4                        10.0                         10.0   \n",
       "...                       ...                          ...   \n",
       "279707                   10.0                         10.0   \n",
       "279708                   10.0                         10.0   \n",
       "279709                   10.0                         10.0   \n",
       "279710                   10.0                         10.0   \n",
       "279711                   10.0                         10.0   \n",
       "\n",
       "       review_scores_location review_scores_value  instant_bookable  \n",
       "0                        10.0                10.0                 f  \n",
       "1                        10.0                10.0                 f  \n",
       "2                        10.0                10.0                 f  \n",
       "3                        10.0                10.0                 f  \n",
       "4                        10.0                10.0                 f  \n",
       "...                       ...                 ...               ...  \n",
       "279707                   10.0                10.0                 f  \n",
       "279708                   10.0                10.0                 f  \n",
       "279709                   10.0                10.0                 f  \n",
       "279710                   10.0                10.0                 f  \n",
       "279711                   10.0                10.0                 f  \n",
       "\n",
       "[64690 rows x 33 columns]"
      ]
     },
     "execution_count": 10,
     "metadata": {},
     "output_type": "execute_result"
    }
   ],
   "source": [
    "# NOW WE WILL START FILTERING HERE  ,,,, ROWS (\"PARIS)\n",
    "\n",
    "paris_listings = listings[listings[\"city\"] == \"Paris\"] # WE HAVE FILTERED ROWS HERE WE KEPT HERE ONLY(\"PARIS\")\n",
    "paris_listings"
   ]
  },
  {
   "cell_type": "code",
   "execution_count": 11,
   "id": "d7a9c19f",
   "metadata": {
    "execution": {
     "iopub.execute_input": "2025-09-09T09:40:42.459903Z",
     "iopub.status.busy": "2025-09-09T09:40:42.459604Z",
     "iopub.status.idle": "2025-09-09T09:40:42.463644Z",
     "shell.execute_reply": "2025-09-09T09:40:42.462795Z"
    },
    "papermill": {
     "duration": 0.019667,
     "end_time": "2025-09-09T09:40:42.464976",
     "exception": false,
     "start_time": "2025-09-09T09:40:42.445309",
     "status": "completed"
    },
    "tags": []
   },
   "outputs": [],
   "source": [
    "# as you can see there are null value in [host_since ] there should be 64690"
   ]
  },
  {
   "cell_type": "code",
   "execution_count": 12,
   "id": "b48e8ae5",
   "metadata": {
    "execution": {
     "iopub.execute_input": "2025-09-09T09:40:42.492231Z",
     "iopub.status.busy": "2025-09-09T09:40:42.491932Z",
     "iopub.status.idle": "2025-09-09T09:40:42.554751Z",
     "shell.execute_reply": "2025-09-09T09:40:42.553430Z"
    },
    "papermill": {
     "duration": 0.078171,
     "end_time": "2025-09-09T09:40:42.556278",
     "exception": false,
     "start_time": "2025-09-09T09:40:42.478107",
     "status": "completed"
    },
    "tags": []
   },
   "outputs": [
    {
     "name": "stdout",
     "output_type": "stream",
     "text": [
      "<class 'pandas.core.frame.DataFrame'>\n",
      "Index: 64690 entries, 0 to 279711\n",
      "Data columns (total 6 columns):\n",
      " #   Column         Non-Null Count  Dtype \n",
      "---  ------         --------------  ----- \n",
      " 0   listing_id     64690 non-null  int64 \n",
      " 1   host_since     64657 non-null  object\n",
      " 2   neighbourhood  64690 non-null  object\n",
      " 3   city           64690 non-null  object\n",
      " 4   accommodates   64690 non-null  int64 \n",
      " 5   price          64690 non-null  int64 \n",
      "dtypes: int64(3), object(3)\n",
      "memory usage: 3.5+ MB\n"
     ]
    }
   ],
   "source": [
    "paris_listings = listings[listings[\"city\"]==\"Paris\"]\n",
    "paris_listings = paris_listings.loc[:,[\"listing_id\",\"host_since\",\"neighbourhood\",\"city\",\"accommodates\",\"price\"]]\n",
    "paris_listings.info()"
   ]
  },
  {
   "cell_type": "code",
   "execution_count": 13,
   "id": "2794b0da",
   "metadata": {
    "execution": {
     "iopub.execute_input": "2025-09-09T09:40:42.583714Z",
     "iopub.status.busy": "2025-09-09T09:40:42.583407Z",
     "iopub.status.idle": "2025-09-09T09:40:42.602183Z",
     "shell.execute_reply": "2025-09-09T09:40:42.601225Z"
    },
    "papermill": {
     "duration": 0.035703,
     "end_time": "2025-09-09T09:40:42.605350",
     "exception": false,
     "start_time": "2025-09-09T09:40:42.569647",
     "status": "completed"
    },
    "tags": []
   },
   "outputs": [
    {
     "data": {
      "text/plain": [
       "listing_id        0\n",
       "host_since       33\n",
       "neighbourhood     0\n",
       "city              0\n",
       "accommodates      0\n",
       "price             0\n",
       "dtype: int64"
      ]
     },
     "execution_count": 13,
     "metadata": {},
     "output_type": "execute_result"
    }
   ],
   "source": [
    "paris_listings.isna().sum() # as you can see 33 value are empty in [host_since]       "
   ]
  },
  {
   "cell_type": "code",
   "execution_count": 14,
   "id": "c62597ed",
   "metadata": {
    "execution": {
     "iopub.execute_input": "2025-09-09T09:40:42.633994Z",
     "iopub.status.busy": "2025-09-09T09:40:42.633248Z",
     "iopub.status.idle": "2025-09-09T09:40:42.657791Z",
     "shell.execute_reply": "2025-09-09T09:40:42.656826Z"
    },
    "papermill": {
     "duration": 0.040073,
     "end_time": "2025-09-09T09:40:42.659358",
     "exception": false,
     "start_time": "2025-09-09T09:40:42.619285",
     "status": "completed"
    },
    "tags": []
   },
   "outputs": [
    {
     "data": {
      "text/html": [
       "<div>\n",
       "<style scoped>\n",
       "    .dataframe tbody tr th:only-of-type {\n",
       "        vertical-align: middle;\n",
       "    }\n",
       "\n",
       "    .dataframe tbody tr th {\n",
       "        vertical-align: top;\n",
       "    }\n",
       "\n",
       "    .dataframe thead th {\n",
       "        text-align: right;\n",
       "    }\n",
       "</style>\n",
       "<table border=\"1\" class=\"dataframe\">\n",
       "  <thead>\n",
       "    <tr style=\"text-align: right;\">\n",
       "      <th></th>\n",
       "      <th>listing_id</th>\n",
       "      <th>host_since</th>\n",
       "      <th>neighbourhood</th>\n",
       "      <th>city</th>\n",
       "      <th>accommodates</th>\n",
       "      <th>price</th>\n",
       "    </tr>\n",
       "  </thead>\n",
       "  <tbody>\n",
       "    <tr>\n",
       "      <th>0</th>\n",
       "      <td>False</td>\n",
       "      <td>False</td>\n",
       "      <td>False</td>\n",
       "      <td>False</td>\n",
       "      <td>False</td>\n",
       "      <td>False</td>\n",
       "    </tr>\n",
       "    <tr>\n",
       "      <th>1</th>\n",
       "      <td>False</td>\n",
       "      <td>False</td>\n",
       "      <td>False</td>\n",
       "      <td>False</td>\n",
       "      <td>False</td>\n",
       "      <td>False</td>\n",
       "    </tr>\n",
       "    <tr>\n",
       "      <th>2</th>\n",
       "      <td>False</td>\n",
       "      <td>False</td>\n",
       "      <td>False</td>\n",
       "      <td>False</td>\n",
       "      <td>False</td>\n",
       "      <td>False</td>\n",
       "    </tr>\n",
       "    <tr>\n",
       "      <th>3</th>\n",
       "      <td>False</td>\n",
       "      <td>False</td>\n",
       "      <td>False</td>\n",
       "      <td>False</td>\n",
       "      <td>False</td>\n",
       "      <td>False</td>\n",
       "    </tr>\n",
       "    <tr>\n",
       "      <th>4</th>\n",
       "      <td>False</td>\n",
       "      <td>False</td>\n",
       "      <td>False</td>\n",
       "      <td>False</td>\n",
       "      <td>False</td>\n",
       "      <td>False</td>\n",
       "    </tr>\n",
       "    <tr>\n",
       "      <th>...</th>\n",
       "      <td>...</td>\n",
       "      <td>...</td>\n",
       "      <td>...</td>\n",
       "      <td>...</td>\n",
       "      <td>...</td>\n",
       "      <td>...</td>\n",
       "    </tr>\n",
       "    <tr>\n",
       "      <th>279707</th>\n",
       "      <td>False</td>\n",
       "      <td>False</td>\n",
       "      <td>False</td>\n",
       "      <td>False</td>\n",
       "      <td>False</td>\n",
       "      <td>False</td>\n",
       "    </tr>\n",
       "    <tr>\n",
       "      <th>279708</th>\n",
       "      <td>False</td>\n",
       "      <td>False</td>\n",
       "      <td>False</td>\n",
       "      <td>False</td>\n",
       "      <td>False</td>\n",
       "      <td>False</td>\n",
       "    </tr>\n",
       "    <tr>\n",
       "      <th>279709</th>\n",
       "      <td>False</td>\n",
       "      <td>False</td>\n",
       "      <td>False</td>\n",
       "      <td>False</td>\n",
       "      <td>False</td>\n",
       "      <td>False</td>\n",
       "    </tr>\n",
       "    <tr>\n",
       "      <th>279710</th>\n",
       "      <td>False</td>\n",
       "      <td>False</td>\n",
       "      <td>False</td>\n",
       "      <td>False</td>\n",
       "      <td>False</td>\n",
       "      <td>False</td>\n",
       "    </tr>\n",
       "    <tr>\n",
       "      <th>279711</th>\n",
       "      <td>False</td>\n",
       "      <td>False</td>\n",
       "      <td>False</td>\n",
       "      <td>False</td>\n",
       "      <td>False</td>\n",
       "      <td>False</td>\n",
       "    </tr>\n",
       "  </tbody>\n",
       "</table>\n",
       "<p>64690 rows × 6 columns</p>\n",
       "</div>"
      ],
      "text/plain": [
       "        listing_id  host_since  neighbourhood   city  accommodates  price\n",
       "0            False       False          False  False         False  False\n",
       "1            False       False          False  False         False  False\n",
       "2            False       False          False  False         False  False\n",
       "3            False       False          False  False         False  False\n",
       "4            False       False          False  False         False  False\n",
       "...            ...         ...            ...    ...           ...    ...\n",
       "279707       False       False          False  False         False  False\n",
       "279708       False       False          False  False         False  False\n",
       "279709       False       False          False  False         False  False\n",
       "279710       False       False          False  False         False  False\n",
       "279711       False       False          False  False         False  False\n",
       "\n",
       "[64690 rows x 6 columns]"
      ]
     },
     "execution_count": 14,
     "metadata": {},
     "output_type": "execute_result"
    }
   ],
   "source": [
    "paris_listings.isna()"
   ]
  },
  {
   "cell_type": "code",
   "execution_count": 15,
   "id": "216817c3",
   "metadata": {
    "execution": {
     "iopub.execute_input": "2025-09-09T09:40:42.687933Z",
     "iopub.status.busy": "2025-09-09T09:40:42.687646Z",
     "iopub.status.idle": "2025-09-09T09:40:42.693591Z",
     "shell.execute_reply": "2025-09-09T09:40:42.692485Z"
    },
    "papermill": {
     "duration": 0.022157,
     "end_time": "2025-09-09T09:40:42.695133",
     "exception": false,
     "start_time": "2025-09-09T09:40:42.672976",
     "status": "completed"
    },
    "tags": []
   },
   "outputs": [
    {
     "data": {
      "text/plain": [
       "0.051012521255217186"
      ]
     },
     "execution_count": 15,
     "metadata": {},
     "output_type": "execute_result"
    }
   ],
   "source": [
    "# we will find how much data is null / empty \n",
    "(33/64690)*100                                   # AS YOU SEE VERY LESS DATA IS NULL IT WILL NOT EFFECT"
   ]
  },
  {
   "cell_type": "code",
   "execution_count": 16,
   "id": "1f79bf73",
   "metadata": {
    "execution": {
     "iopub.execute_input": "2025-09-09T09:40:42.723197Z",
     "iopub.status.busy": "2025-09-09T09:40:42.722913Z",
     "iopub.status.idle": "2025-09-09T09:40:42.733613Z",
     "shell.execute_reply": "2025-09-09T09:40:42.732652Z"
    },
    "papermill": {
     "duration": 0.026779,
     "end_time": "2025-09-09T09:40:42.735685",
     "exception": false,
     "start_time": "2025-09-09T09:40:42.708906",
     "status": "completed"
    },
    "tags": []
   },
   "outputs": [
    {
     "data": {
      "text/html": [
       "<div>\n",
       "<style scoped>\n",
       "    .dataframe tbody tr th:only-of-type {\n",
       "        vertical-align: middle;\n",
       "    }\n",
       "\n",
       "    .dataframe tbody tr th {\n",
       "        vertical-align: top;\n",
       "    }\n",
       "\n",
       "    .dataframe thead th {\n",
       "        text-align: right;\n",
       "    }\n",
       "</style>\n",
       "<table border=\"1\" class=\"dataframe\">\n",
       "  <thead>\n",
       "    <tr style=\"text-align: right;\">\n",
       "      <th></th>\n",
       "      <th>listing_id</th>\n",
       "      <th>host_since</th>\n",
       "      <th>neighbourhood</th>\n",
       "      <th>city</th>\n",
       "      <th>accommodates</th>\n",
       "      <th>price</th>\n",
       "    </tr>\n",
       "  </thead>\n",
       "  <tbody>\n",
       "    <tr>\n",
       "      <th>0</th>\n",
       "      <td>281420</td>\n",
       "      <td>2011-12-03</td>\n",
       "      <td>Buttes-Montmartre</td>\n",
       "      <td>Paris</td>\n",
       "      <td>2</td>\n",
       "      <td>53</td>\n",
       "    </tr>\n",
       "    <tr>\n",
       "      <th>1</th>\n",
       "      <td>3705183</td>\n",
       "      <td>2013-11-29</td>\n",
       "      <td>Buttes-Montmartre</td>\n",
       "      <td>Paris</td>\n",
       "      <td>2</td>\n",
       "      <td>120</td>\n",
       "    </tr>\n",
       "    <tr>\n",
       "      <th>2</th>\n",
       "      <td>4082273</td>\n",
       "      <td>2014-07-31</td>\n",
       "      <td>Elysee</td>\n",
       "      <td>Paris</td>\n",
       "      <td>2</td>\n",
       "      <td>89</td>\n",
       "    </tr>\n",
       "    <tr>\n",
       "      <th>3</th>\n",
       "      <td>4797344</td>\n",
       "      <td>2013-12-17</td>\n",
       "      <td>Vaugirard</td>\n",
       "      <td>Paris</td>\n",
       "      <td>2</td>\n",
       "      <td>58</td>\n",
       "    </tr>\n",
       "    <tr>\n",
       "      <th>4</th>\n",
       "      <td>4823489</td>\n",
       "      <td>2014-12-14</td>\n",
       "      <td>Passy</td>\n",
       "      <td>Paris</td>\n",
       "      <td>2</td>\n",
       "      <td>60</td>\n",
       "    </tr>\n",
       "  </tbody>\n",
       "</table>\n",
       "</div>"
      ],
      "text/plain": [
       "   listing_id  host_since      neighbourhood   city  accommodates  price\n",
       "0      281420  2011-12-03  Buttes-Montmartre  Paris             2     53\n",
       "1     3705183  2013-11-29  Buttes-Montmartre  Paris             2    120\n",
       "2     4082273  2014-07-31             Elysee  Paris             2     89\n",
       "3     4797344  2013-12-17          Vaugirard  Paris             2     58\n",
       "4     4823489  2014-12-14              Passy  Paris             2     60"
      ]
     },
     "execution_count": 16,
     "metadata": {},
     "output_type": "execute_result"
    }
   ],
   "source": [
    "paris_listings.head()"
   ]
  },
  {
   "cell_type": "markdown",
   "id": "6b84216f",
   "metadata": {
    "papermill": {
     "duration": 0.013742,
     "end_time": "2025-09-09T09:40:42.763750",
     "exception": false,
     "start_time": "2025-09-09T09:40:42.750008",
     "status": "completed"
    },
    "tags": []
   },
   "source": [
    "<div style=\"\n",
    "    background-color: yellow; \n",
    "    color: black; \n",
    "    padding: 15px; \n",
    "    border-radius: 10px; \n",
    "    text-align: center; \n",
    "    font-size: 28px; \n",
    "    font-weight: bold;\n",
    "\">\n",
    "    Removing nulls\n",
    "</div>\n"
   ]
  },
  {
   "cell_type": "code",
   "execution_count": 17,
   "id": "6f283910",
   "metadata": {
    "execution": {
     "iopub.execute_input": "2025-09-09T09:40:42.792249Z",
     "iopub.status.busy": "2025-09-09T09:40:42.791983Z",
     "iopub.status.idle": "2025-09-09T09:40:42.810351Z",
     "shell.execute_reply": "2025-09-09T09:40:42.809283Z"
    },
    "papermill": {
     "duration": 0.034438,
     "end_time": "2025-09-09T09:40:42.812033",
     "exception": false,
     "start_time": "2025-09-09T09:40:42.777595",
     "status": "completed"
    },
    "tags": []
   },
   "outputs": [],
   "source": [
    "# function for removing missing values\n",
    "paris_listings.dropna(how = \"any\" , inplace = True)"
   ]
  },
  {
   "cell_type": "code",
   "execution_count": 18,
   "id": "471bdc19",
   "metadata": {
    "execution": {
     "iopub.execute_input": "2025-09-09T09:40:42.840453Z",
     "iopub.status.busy": "2025-09-09T09:40:42.840077Z",
     "iopub.status.idle": "2025-09-09T09:40:42.861179Z",
     "shell.execute_reply": "2025-09-09T09:40:42.859878Z"
    },
    "papermill": {
     "duration": 0.037132,
     "end_time": "2025-09-09T09:40:42.862847",
     "exception": false,
     "start_time": "2025-09-09T09:40:42.825715",
     "status": "completed"
    },
    "tags": []
   },
   "outputs": [
    {
     "name": "stdout",
     "output_type": "stream",
     "text": [
      "<class 'pandas.core.frame.DataFrame'>\n",
      "Index: 64657 entries, 0 to 279711\n",
      "Data columns (total 6 columns):\n",
      " #   Column         Non-Null Count  Dtype \n",
      "---  ------         --------------  ----- \n",
      " 0   listing_id     64657 non-null  int64 \n",
      " 1   host_since     64657 non-null  object\n",
      " 2   neighbourhood  64657 non-null  object\n",
      " 3   city           64657 non-null  object\n",
      " 4   accommodates   64657 non-null  int64 \n",
      " 5   price          64657 non-null  int64 \n",
      "dtypes: int64(3), object(3)\n",
      "memory usage: 3.5+ MB\n"
     ]
    }
   ],
   "source": [
    "paris_listings.info() # as you can see before it was 64690 now it is  :- 64657 ,, hve removed 33 null values"
   ]
  },
  {
   "cell_type": "code",
   "execution_count": 19,
   "id": "22e9a13f",
   "metadata": {
    "execution": {
     "iopub.execute_input": "2025-09-09T09:40:42.891652Z",
     "iopub.status.busy": "2025-09-09T09:40:42.891254Z",
     "iopub.status.idle": "2025-09-09T09:40:42.895408Z",
     "shell.execute_reply": "2025-09-09T09:40:42.894490Z"
    },
    "papermill": {
     "duration": 0.01991,
     "end_time": "2025-09-09T09:40:42.896972",
     "exception": false,
     "start_time": "2025-09-09T09:40:42.877062",
     "status": "completed"
    },
    "tags": []
   },
   "outputs": [],
   "source": [
    "# here in this  above column {host_since} FOR Dtype it is object , we need proper date"
   ]
  },
  {
   "cell_type": "code",
   "execution_count": 20,
   "id": "9bc19a03",
   "metadata": {
    "execution": {
     "iopub.execute_input": "2025-09-09T09:40:42.925432Z",
     "iopub.status.busy": "2025-09-09T09:40:42.925085Z",
     "iopub.status.idle": "2025-09-09T09:40:42.958468Z",
     "shell.execute_reply": "2025-09-09T09:40:42.957425Z"
    },
    "papermill": {
     "duration": 0.049456,
     "end_time": "2025-09-09T09:40:42.959965",
     "exception": false,
     "start_time": "2025-09-09T09:40:42.910509",
     "status": "completed"
    },
    "tags": []
   },
   "outputs": [
    {
     "name": "stdout",
     "output_type": "stream",
     "text": [
      "<class 'pandas.core.frame.DataFrame'>\n",
      "Index: 64657 entries, 0 to 279711\n",
      "Data columns (total 6 columns):\n",
      " #   Column         Non-Null Count  Dtype         \n",
      "---  ------         --------------  -----         \n",
      " 0   listing_id     64657 non-null  int64         \n",
      " 1   host_since     64657 non-null  datetime64[ns]\n",
      " 2   neighbourhood  64657 non-null  object        \n",
      " 3   city           64657 non-null  object        \n",
      " 4   accommodates   64657 non-null  int64         \n",
      " 5   price          64657 non-null  int64         \n",
      "dtypes: datetime64[ns](1), int64(3), object(2)\n",
      "memory usage: 3.5+ MB\n"
     ]
    }
   ],
   "source": [
    "paris_listings[\"host_since\"] = pd.to_datetime(paris_listings[\"host_since\"])\n",
    "paris_listings.info()"
   ]
  },
  {
   "cell_type": "code",
   "execution_count": 21,
   "id": "e3ef8291",
   "metadata": {
    "execution": {
     "iopub.execute_input": "2025-09-09T09:40:42.990850Z",
     "iopub.status.busy": "2025-09-09T09:40:42.990551Z",
     "iopub.status.idle": "2025-09-09T09:40:42.995025Z",
     "shell.execute_reply": "2025-09-09T09:40:42.993993Z"
    },
    "papermill": {
     "duration": 0.022298,
     "end_time": "2025-09-09T09:40:42.996672",
     "exception": false,
     "start_time": "2025-09-09T09:40:42.974374",
     "status": "completed"
    },
    "tags": []
   },
   "outputs": [],
   "source": [
    "# as you can see we have converted object to datetime"
   ]
  },
  {
   "cell_type": "code",
   "execution_count": 22,
   "id": "7c4c3472",
   "metadata": {
    "execution": {
     "iopub.execute_input": "2025-09-09T09:40:43.025104Z",
     "iopub.status.busy": "2025-09-09T09:40:43.024797Z",
     "iopub.status.idle": "2025-09-09T09:40:43.054749Z",
     "shell.execute_reply": "2025-09-09T09:40:43.053669Z"
    },
    "papermill": {
     "duration": 0.045952,
     "end_time": "2025-09-09T09:40:43.056404",
     "exception": false,
     "start_time": "2025-09-09T09:40:43.010452",
     "status": "completed"
    },
    "tags": []
   },
   "outputs": [
    {
     "data": {
      "text/html": [
       "<div>\n",
       "<style scoped>\n",
       "    .dataframe tbody tr th:only-of-type {\n",
       "        vertical-align: middle;\n",
       "    }\n",
       "\n",
       "    .dataframe tbody tr th {\n",
       "        vertical-align: top;\n",
       "    }\n",
       "\n",
       "    .dataframe thead th {\n",
       "        text-align: right;\n",
       "    }\n",
       "</style>\n",
       "<table border=\"1\" class=\"dataframe\">\n",
       "  <thead>\n",
       "    <tr style=\"text-align: right;\">\n",
       "      <th></th>\n",
       "      <th>listing_id</th>\n",
       "      <th>host_since</th>\n",
       "      <th>accommodates</th>\n",
       "      <th>price</th>\n",
       "    </tr>\n",
       "  </thead>\n",
       "  <tbody>\n",
       "    <tr>\n",
       "      <th>count</th>\n",
       "      <td>6.465700e+04</td>\n",
       "      <td>64657</td>\n",
       "      <td>64657.000000</td>\n",
       "      <td>64657.000000</td>\n",
       "    </tr>\n",
       "    <tr>\n",
       "      <th>mean</th>\n",
       "      <td>2.424035e+07</td>\n",
       "      <td>2015-11-01 11:06:05.528867584</td>\n",
       "      <td>3.037877</td>\n",
       "      <td>113.104614</td>\n",
       "    </tr>\n",
       "    <tr>\n",
       "      <th>min</th>\n",
       "      <td>2.577000e+03</td>\n",
       "      <td>2008-08-30 00:00:00</td>\n",
       "      <td>0.000000</td>\n",
       "      <td>0.000000</td>\n",
       "    </tr>\n",
       "    <tr>\n",
       "      <th>25%</th>\n",
       "      <td>1.181517e+07</td>\n",
       "      <td>2014-03-09 00:00:00</td>\n",
       "      <td>2.000000</td>\n",
       "      <td>59.000000</td>\n",
       "    </tr>\n",
       "    <tr>\n",
       "      <th>50%</th>\n",
       "      <td>2.395412e+07</td>\n",
       "      <td>2015-07-07 00:00:00</td>\n",
       "      <td>2.000000</td>\n",
       "      <td>80.000000</td>\n",
       "    </tr>\n",
       "    <tr>\n",
       "      <th>75%</th>\n",
       "      <td>3.721013e+07</td>\n",
       "      <td>2017-05-29 00:00:00</td>\n",
       "      <td>4.000000</td>\n",
       "      <td>120.000000</td>\n",
       "    </tr>\n",
       "    <tr>\n",
       "      <th>max</th>\n",
       "      <td>4.809185e+07</td>\n",
       "      <td>2021-02-07 00:00:00</td>\n",
       "      <td>16.000000</td>\n",
       "      <td>12000.000000</td>\n",
       "    </tr>\n",
       "    <tr>\n",
       "      <th>std</th>\n",
       "      <td>1.432650e+07</td>\n",
       "      <td>NaN</td>\n",
       "      <td>1.588382</td>\n",
       "      <td>214.479626</td>\n",
       "    </tr>\n",
       "  </tbody>\n",
       "</table>\n",
       "</div>"
      ],
      "text/plain": [
       "         listing_id                     host_since  accommodates         price\n",
       "count  6.465700e+04                          64657  64657.000000  64657.000000\n",
       "mean   2.424035e+07  2015-11-01 11:06:05.528867584      3.037877    113.104614\n",
       "min    2.577000e+03            2008-08-30 00:00:00      0.000000      0.000000\n",
       "25%    1.181517e+07            2014-03-09 00:00:00      2.000000     59.000000\n",
       "50%    2.395412e+07            2015-07-07 00:00:00      2.000000     80.000000\n",
       "75%    3.721013e+07            2017-05-29 00:00:00      4.000000    120.000000\n",
       "max    4.809185e+07            2021-02-07 00:00:00     16.000000  12000.000000\n",
       "std    1.432650e+07                            NaN      1.588382    214.479626"
      ]
     },
     "execution_count": 22,
     "metadata": {},
     "output_type": "execute_result"
    }
   ],
   "source": [
    "paris_listings.describe() # here you have all information of paris air bnb"
   ]
  },
  {
   "cell_type": "code",
   "execution_count": 23,
   "id": "bfda4ee4",
   "metadata": {
    "execution": {
     "iopub.execute_input": "2025-09-09T09:40:43.086939Z",
     "iopub.status.busy": "2025-09-09T09:40:43.086624Z",
     "iopub.status.idle": "2025-09-09T09:40:43.100371Z",
     "shell.execute_reply": "2025-09-09T09:40:43.099434Z"
    },
    "papermill": {
     "duration": 0.030506,
     "end_time": "2025-09-09T09:40:43.102107",
     "exception": false,
     "start_time": "2025-09-09T09:40:43.071601",
     "status": "completed"
    },
    "tags": []
   },
   "outputs": [
    {
     "data": {
      "text/html": [
       "<div>\n",
       "<style scoped>\n",
       "    .dataframe tbody tr th:only-of-type {\n",
       "        vertical-align: middle;\n",
       "    }\n",
       "\n",
       "    .dataframe tbody tr th {\n",
       "        vertical-align: top;\n",
       "    }\n",
       "\n",
       "    .dataframe thead th {\n",
       "        text-align: right;\n",
       "    }\n",
       "</style>\n",
       "<table border=\"1\" class=\"dataframe\">\n",
       "  <thead>\n",
       "    <tr style=\"text-align: right;\">\n",
       "      <th></th>\n",
       "      <th>listing_id</th>\n",
       "      <th>host_since</th>\n",
       "      <th>neighbourhood</th>\n",
       "      <th>city</th>\n",
       "      <th>accommodates</th>\n",
       "      <th>price</th>\n",
       "    </tr>\n",
       "  </thead>\n",
       "  <tbody>\n",
       "    <tr>\n",
       "      <th>98209</th>\n",
       "      <td>44312919</td>\n",
       "      <td>2020-07-20</td>\n",
       "      <td>Pantheon</td>\n",
       "      <td>Paris</td>\n",
       "      <td>0</td>\n",
       "      <td>0</td>\n",
       "    </tr>\n",
       "    <tr>\n",
       "      <th>203257</th>\n",
       "      <td>43012882</td>\n",
       "      <td>2020-02-04</td>\n",
       "      <td>Batignolles-Monceau</td>\n",
       "      <td>Paris</td>\n",
       "      <td>0</td>\n",
       "      <td>0</td>\n",
       "    </tr>\n",
       "    <tr>\n",
       "      <th>203258</th>\n",
       "      <td>43035744</td>\n",
       "      <td>2016-10-17</td>\n",
       "      <td>Opera</td>\n",
       "      <td>Paris</td>\n",
       "      <td>0</td>\n",
       "      <td>0</td>\n",
       "    </tr>\n",
       "    <tr>\n",
       "      <th>203259</th>\n",
       "      <td>43274767</td>\n",
       "      <td>2020-04-24</td>\n",
       "      <td>Luxembourg</td>\n",
       "      <td>Paris</td>\n",
       "      <td>0</td>\n",
       "      <td>0</td>\n",
       "    </tr>\n",
       "    <tr>\n",
       "      <th>203260</th>\n",
       "      <td>43274785</td>\n",
       "      <td>2020-04-24</td>\n",
       "      <td>Vaugirard</td>\n",
       "      <td>Paris</td>\n",
       "      <td>0</td>\n",
       "      <td>0</td>\n",
       "    </tr>\n",
       "    <tr>\n",
       "      <th>...</th>\n",
       "      <td>...</td>\n",
       "      <td>...</td>\n",
       "      <td>...</td>\n",
       "      <td>...</td>\n",
       "      <td>...</td>\n",
       "      <td>...</td>\n",
       "    </tr>\n",
       "    <tr>\n",
       "      <th>208881</th>\n",
       "      <td>46000461</td>\n",
       "      <td>2020-10-22</td>\n",
       "      <td>Pantheon</td>\n",
       "      <td>Paris</td>\n",
       "      <td>0</td>\n",
       "      <td>0</td>\n",
       "    </tr>\n",
       "    <tr>\n",
       "      <th>208882</th>\n",
       "      <td>46652813</td>\n",
       "      <td>2020-11-26</td>\n",
       "      <td>Enclos-St-Laurent</td>\n",
       "      <td>Paris</td>\n",
       "      <td>0</td>\n",
       "      <td>0</td>\n",
       "    </tr>\n",
       "    <tr>\n",
       "      <th>208883</th>\n",
       "      <td>46652882</td>\n",
       "      <td>2020-11-26</td>\n",
       "      <td>Vaugirard</td>\n",
       "      <td>Paris</td>\n",
       "      <td>0</td>\n",
       "      <td>0</td>\n",
       "    </tr>\n",
       "    <tr>\n",
       "      <th>208884</th>\n",
       "      <td>47169609</td>\n",
       "      <td>2020-12-21</td>\n",
       "      <td>Vaugirard</td>\n",
       "      <td>Paris</td>\n",
       "      <td>0</td>\n",
       "      <td>0</td>\n",
       "    </tr>\n",
       "    <tr>\n",
       "      <th>212834</th>\n",
       "      <td>43308777</td>\n",
       "      <td>2020-02-03</td>\n",
       "      <td>Enclos-St-Laurent</td>\n",
       "      <td>Paris</td>\n",
       "      <td>0</td>\n",
       "      <td>0</td>\n",
       "    </tr>\n",
       "  </tbody>\n",
       "</table>\n",
       "<p>62 rows × 6 columns</p>\n",
       "</div>"
      ],
      "text/plain": [
       "        listing_id host_since        neighbourhood   city  accommodates  price\n",
       "98209     44312919 2020-07-20             Pantheon  Paris             0      0\n",
       "203257    43012882 2020-02-04  Batignolles-Monceau  Paris             0      0\n",
       "203258    43035744 2016-10-17                Opera  Paris             0      0\n",
       "203259    43274767 2020-04-24           Luxembourg  Paris             0      0\n",
       "203260    43274785 2020-04-24            Vaugirard  Paris             0      0\n",
       "...            ...        ...                  ...    ...           ...    ...\n",
       "208881    46000461 2020-10-22             Pantheon  Paris             0      0\n",
       "208882    46652813 2020-11-26    Enclos-St-Laurent  Paris             0      0\n",
       "208883    46652882 2020-11-26            Vaugirard  Paris             0      0\n",
       "208884    47169609 2020-12-21            Vaugirard  Paris             0      0\n",
       "212834    43308777 2020-02-03    Enclos-St-Laurent  Paris             0      0\n",
       "\n",
       "[62 rows x 6 columns]"
      ]
     },
     "execution_count": 23,
     "metadata": {},
     "output_type": "execute_result"
    }
   ],
   "source": [
    "paris_listings[(paris_listings[\"accommodates\"] == 0) | (paris_listings[\"price\"] == 0)]"
   ]
  },
  {
   "cell_type": "code",
   "execution_count": 24,
   "id": "27d84df8",
   "metadata": {
    "execution": {
     "iopub.execute_input": "2025-09-09T09:40:43.131960Z",
     "iopub.status.busy": "2025-09-09T09:40:43.131686Z",
     "iopub.status.idle": "2025-09-09T09:40:43.135731Z",
     "shell.execute_reply": "2025-09-09T09:40:43.134936Z"
    },
    "papermill": {
     "duration": 0.020553,
     "end_time": "2025-09-09T09:40:43.137209",
     "exception": false,
     "start_time": "2025-09-09T09:40:43.116656",
     "status": "completed"
    },
    "tags": []
   },
   "outputs": [],
   "source": [
    "# 62 rows are null  in ,(accommodates) , (price)\n"
   ]
  },
  {
   "cell_type": "markdown",
   "id": "f7647e85",
   "metadata": {
    "papermill": {
     "duration": 0.013876,
     "end_time": "2025-09-09T09:40:43.165153",
     "exception": false,
     "start_time": "2025-09-09T09:40:43.151277",
     "status": "completed"
    },
    "tags": []
   },
   "source": [
    "<div style=\"\n",
    "    background-color:yellow; \n",
    "    color: black; \n",
    "    padding: 15px; \n",
    "    border-radius: 10px; \n",
    "    text-align: center; \n",
    "    font-size: 28px; \n",
    "    font-weight: bold;\n",
    "\">\n",
    "    Removing zeros since they indicate missing data\n",
    "</div>\n"
   ]
  },
  {
   "cell_type": "code",
   "execution_count": 25,
   "id": "c6ce0031",
   "metadata": {
    "execution": {
     "iopub.execute_input": "2025-09-09T09:40:43.195242Z",
     "iopub.status.busy": "2025-09-09T09:40:43.194468Z",
     "iopub.status.idle": "2025-09-09T09:40:43.203146Z",
     "shell.execute_reply": "2025-09-09T09:40:43.202282Z"
    },
    "papermill": {
     "duration": 0.025738,
     "end_time": "2025-09-09T09:40:43.204854",
     "exception": false,
     "start_time": "2025-09-09T09:40:43.179116",
     "status": "completed"
    },
    "tags": []
   },
   "outputs": [],
   "source": [
    "paris_listings = paris_listings[(paris_listings[\"accommodates\"] != 0) | (paris_listings[\"price\"] != 0)]"
   ]
  },
  {
   "cell_type": "code",
   "execution_count": 26,
   "id": "d93d1c98",
   "metadata": {
    "execution": {
     "iopub.execute_input": "2025-09-09T09:40:43.237012Z",
     "iopub.status.busy": "2025-09-09T09:40:43.236720Z",
     "iopub.status.idle": "2025-09-09T09:40:43.253959Z",
     "shell.execute_reply": "2025-09-09T09:40:43.253010Z"
    },
    "papermill": {
     "duration": 0.034307,
     "end_time": "2025-09-09T09:40:43.255499",
     "exception": false,
     "start_time": "2025-09-09T09:40:43.221192",
     "status": "completed"
    },
    "tags": []
   },
   "outputs": [
    {
     "name": "stdout",
     "output_type": "stream",
     "text": [
      "<class 'pandas.core.frame.DataFrame'>\n",
      "Index: 64603 entries, 0 to 279711\n",
      "Data columns (total 6 columns):\n",
      " #   Column         Non-Null Count  Dtype         \n",
      "---  ------         --------------  -----         \n",
      " 0   listing_id     64603 non-null  int64         \n",
      " 1   host_since     64603 non-null  datetime64[ns]\n",
      " 2   neighbourhood  64603 non-null  object        \n",
      " 3   city           64603 non-null  object        \n",
      " 4   accommodates   64603 non-null  int64         \n",
      " 5   price          64603 non-null  int64         \n",
      "dtypes: datetime64[ns](1), int64(3), object(2)\n",
      "memory usage: 3.5+ MB\n"
     ]
    }
   ],
   "source": [
    "paris_listings.info()"
   ]
  },
  {
   "cell_type": "code",
   "execution_count": 27,
   "id": "f05e4452",
   "metadata": {
    "execution": {
     "iopub.execute_input": "2025-09-09T09:40:43.284751Z",
     "iopub.status.busy": "2025-09-09T09:40:43.284465Z",
     "iopub.status.idle": "2025-09-09T09:40:43.311027Z",
     "shell.execute_reply": "2025-09-09T09:40:43.310137Z"
    },
    "papermill": {
     "duration": 0.042968,
     "end_time": "2025-09-09T09:40:43.312692",
     "exception": false,
     "start_time": "2025-09-09T09:40:43.269724",
     "status": "completed"
    },
    "tags": []
   },
   "outputs": [
    {
     "data": {
      "text/html": [
       "<div>\n",
       "<style scoped>\n",
       "    .dataframe tbody tr th:only-of-type {\n",
       "        vertical-align: middle;\n",
       "    }\n",
       "\n",
       "    .dataframe tbody tr th {\n",
       "        vertical-align: top;\n",
       "    }\n",
       "\n",
       "    .dataframe thead th {\n",
       "        text-align: right;\n",
       "    }\n",
       "</style>\n",
       "<table border=\"1\" class=\"dataframe\">\n",
       "  <thead>\n",
       "    <tr style=\"text-align: right;\">\n",
       "      <th></th>\n",
       "      <th>listing_id</th>\n",
       "      <th>host_since</th>\n",
       "      <th>accommodates</th>\n",
       "      <th>price</th>\n",
       "    </tr>\n",
       "  </thead>\n",
       "  <tbody>\n",
       "    <tr>\n",
       "      <th>count</th>\n",
       "      <td>6.460300e+04</td>\n",
       "      <td>64603</td>\n",
       "      <td>64603.000000</td>\n",
       "      <td>64603.000000</td>\n",
       "    </tr>\n",
       "    <tr>\n",
       "      <th>mean</th>\n",
       "      <td>2.422340e+07</td>\n",
       "      <td>2015-10-31 02:35:06.960976896</td>\n",
       "      <td>3.040416</td>\n",
       "      <td>113.199155</td>\n",
       "    </tr>\n",
       "    <tr>\n",
       "      <th>min</th>\n",
       "      <td>2.577000e+03</td>\n",
       "      <td>2008-08-30 00:00:00</td>\n",
       "      <td>1.000000</td>\n",
       "      <td>0.000000</td>\n",
       "    </tr>\n",
       "    <tr>\n",
       "      <th>25%</th>\n",
       "      <td>1.180688e+07</td>\n",
       "      <td>2014-03-09 00:00:00</td>\n",
       "      <td>2.000000</td>\n",
       "      <td>59.000000</td>\n",
       "    </tr>\n",
       "    <tr>\n",
       "      <th>50%</th>\n",
       "      <td>2.393266e+07</td>\n",
       "      <td>2015-07-06 00:00:00</td>\n",
       "      <td>2.000000</td>\n",
       "      <td>80.000000</td>\n",
       "    </tr>\n",
       "    <tr>\n",
       "      <th>75%</th>\n",
       "      <td>3.719466e+07</td>\n",
       "      <td>2017-05-25 00:00:00</td>\n",
       "      <td>4.000000</td>\n",
       "      <td>120.000000</td>\n",
       "    </tr>\n",
       "    <tr>\n",
       "      <th>max</th>\n",
       "      <td>4.809185e+07</td>\n",
       "      <td>2021-02-07 00:00:00</td>\n",
       "      <td>16.000000</td>\n",
       "      <td>12000.000000</td>\n",
       "    </tr>\n",
       "    <tr>\n",
       "      <th>std</th>\n",
       "      <td>1.432042e+07</td>\n",
       "      <td>NaN</td>\n",
       "      <td>1.586614</td>\n",
       "      <td>214.544307</td>\n",
       "    </tr>\n",
       "  </tbody>\n",
       "</table>\n",
       "</div>"
      ],
      "text/plain": [
       "         listing_id                     host_since  accommodates         price\n",
       "count  6.460300e+04                          64603  64603.000000  64603.000000\n",
       "mean   2.422340e+07  2015-10-31 02:35:06.960976896      3.040416    113.199155\n",
       "min    2.577000e+03            2008-08-30 00:00:00      1.000000      0.000000\n",
       "25%    1.180688e+07            2014-03-09 00:00:00      2.000000     59.000000\n",
       "50%    2.393266e+07            2015-07-06 00:00:00      2.000000     80.000000\n",
       "75%    3.719466e+07            2017-05-25 00:00:00      4.000000    120.000000\n",
       "max    4.809185e+07            2021-02-07 00:00:00     16.000000  12000.000000\n",
       "std    1.432042e+07                            NaN      1.586614    214.544307"
      ]
     },
     "execution_count": 27,
     "metadata": {},
     "output_type": "execute_result"
    }
   ],
   "source": [
    "paris_listings.describe()"
   ]
  },
  {
   "cell_type": "code",
   "execution_count": 28,
   "id": "d29f97ac",
   "metadata": {
    "execution": {
     "iopub.execute_input": "2025-09-09T09:40:43.342618Z",
     "iopub.status.busy": "2025-09-09T09:40:43.342314Z",
     "iopub.status.idle": "2025-09-09T09:40:43.346164Z",
     "shell.execute_reply": "2025-09-09T09:40:43.345462Z"
    },
    "papermill": {
     "duration": 0.020565,
     "end_time": "2025-09-09T09:40:43.347670",
     "exception": false,
     "start_time": "2025-09-09T09:40:43.327105",
     "status": "completed"
    },
    "tags": []
   },
   "outputs": [],
   "source": [
    "# but still we are having 0 in price"
   ]
  },
  {
   "cell_type": "code",
   "execution_count": 29,
   "id": "e9fd3eb8",
   "metadata": {
    "execution": {
     "iopub.execute_input": "2025-09-09T09:40:43.378264Z",
     "iopub.status.busy": "2025-09-09T09:40:43.377953Z",
     "iopub.status.idle": "2025-09-09T09:40:43.406467Z",
     "shell.execute_reply": "2025-09-09T09:40:43.405573Z"
    },
    "papermill": {
     "duration": 0.045477,
     "end_time": "2025-09-09T09:40:43.408110",
     "exception": false,
     "start_time": "2025-09-09T09:40:43.362633",
     "status": "completed"
    },
    "tags": []
   },
   "outputs": [
    {
     "data": {
      "text/html": [
       "<div>\n",
       "<style scoped>\n",
       "    .dataframe tbody tr th:only-of-type {\n",
       "        vertical-align: middle;\n",
       "    }\n",
       "\n",
       "    .dataframe tbody tr th {\n",
       "        vertical-align: top;\n",
       "    }\n",
       "\n",
       "    .dataframe thead th {\n",
       "        text-align: right;\n",
       "    }\n",
       "</style>\n",
       "<table border=\"1\" class=\"dataframe\">\n",
       "  <thead>\n",
       "    <tr style=\"text-align: right;\">\n",
       "      <th></th>\n",
       "      <th>listing_id</th>\n",
       "      <th>host_since</th>\n",
       "      <th>accommodates</th>\n",
       "      <th>price</th>\n",
       "    </tr>\n",
       "  </thead>\n",
       "  <tbody>\n",
       "    <tr>\n",
       "      <th>count</th>\n",
       "      <td>6.459500e+04</td>\n",
       "      <td>64595</td>\n",
       "      <td>64595.000000</td>\n",
       "      <td>64595.000000</td>\n",
       "    </tr>\n",
       "    <tr>\n",
       "      <th>mean</th>\n",
       "      <td>2.422116e+07</td>\n",
       "      <td>2015-10-30 22:46:09.985293056</td>\n",
       "      <td>3.040483</td>\n",
       "      <td>113.213174</td>\n",
       "    </tr>\n",
       "    <tr>\n",
       "      <th>min</th>\n",
       "      <td>2.577000e+03</td>\n",
       "      <td>2008-08-30 00:00:00</td>\n",
       "      <td>1.000000</td>\n",
       "      <td>8.000000</td>\n",
       "    </tr>\n",
       "    <tr>\n",
       "      <th>25%</th>\n",
       "      <td>1.180597e+07</td>\n",
       "      <td>2014-03-09 00:00:00</td>\n",
       "      <td>2.000000</td>\n",
       "      <td>59.000000</td>\n",
       "    </tr>\n",
       "    <tr>\n",
       "      <th>50%</th>\n",
       "      <td>2.392314e+07</td>\n",
       "      <td>2015-07-06 00:00:00</td>\n",
       "      <td>2.000000</td>\n",
       "      <td>80.000000</td>\n",
       "    </tr>\n",
       "    <tr>\n",
       "      <th>75%</th>\n",
       "      <td>3.719008e+07</td>\n",
       "      <td>2017-05-25 00:00:00</td>\n",
       "      <td>4.000000</td>\n",
       "      <td>120.000000</td>\n",
       "    </tr>\n",
       "    <tr>\n",
       "      <th>max</th>\n",
       "      <td>4.809185e+07</td>\n",
       "      <td>2021-02-07 00:00:00</td>\n",
       "      <td>16.000000</td>\n",
       "      <td>12000.000000</td>\n",
       "    </tr>\n",
       "    <tr>\n",
       "      <th>std</th>\n",
       "      <td>1.431989e+07</td>\n",
       "      <td>NaN</td>\n",
       "      <td>1.586691</td>\n",
       "      <td>214.553894</td>\n",
       "    </tr>\n",
       "  </tbody>\n",
       "</table>\n",
       "</div>"
      ],
      "text/plain": [
       "         listing_id                     host_since  accommodates         price\n",
       "count  6.459500e+04                          64595  64595.000000  64595.000000\n",
       "mean   2.422116e+07  2015-10-30 22:46:09.985293056      3.040483    113.213174\n",
       "min    2.577000e+03            2008-08-30 00:00:00      1.000000      8.000000\n",
       "25%    1.180597e+07            2014-03-09 00:00:00      2.000000     59.000000\n",
       "50%    2.392314e+07            2015-07-06 00:00:00      2.000000     80.000000\n",
       "75%    3.719008e+07            2017-05-25 00:00:00      4.000000    120.000000\n",
       "max    4.809185e+07            2021-02-07 00:00:00     16.000000  12000.000000\n",
       "std    1.431989e+07                            NaN      1.586691    214.553894"
      ]
     },
     "execution_count": 29,
     "metadata": {},
     "output_type": "execute_result"
    }
   ],
   "source": [
    "paris_listings = paris_listings[(paris_listings[\"price\"]!= 0)]\n",
    "paris_listings.describe()"
   ]
  },
  {
   "cell_type": "code",
   "execution_count": 30,
   "id": "01ecfc9c",
   "metadata": {
    "execution": {
     "iopub.execute_input": "2025-09-09T09:40:43.438927Z",
     "iopub.status.busy": "2025-09-09T09:40:43.438661Z",
     "iopub.status.idle": "2025-09-09T09:40:43.442878Z",
     "shell.execute_reply": "2025-09-09T09:40:43.442095Z"
    },
    "papermill": {
     "duration": 0.021433,
     "end_time": "2025-09-09T09:40:43.444295",
     "exception": false,
     "start_time": "2025-09-09T09:40:43.422862",
     "status": "completed"
    },
    "tags": []
   },
   "outputs": [],
   "source": [
    "# NOW YOU CAN SEE THERE ARE NOT (0) IN ABOVE"
   ]
  },
  {
   "cell_type": "code",
   "execution_count": 31,
   "id": "f4e11e8c",
   "metadata": {
    "execution": {
     "iopub.execute_input": "2025-09-09T09:40:43.474905Z",
     "iopub.status.busy": "2025-09-09T09:40:43.473928Z",
     "iopub.status.idle": "2025-09-09T09:40:45.346208Z",
     "shell.execute_reply": "2025-09-09T09:40:45.345269Z"
    },
    "papermill": {
     "duration": 1.889087,
     "end_time": "2025-09-09T09:40:45.347950",
     "exception": false,
     "start_time": "2025-09-09T09:40:43.458863",
     "status": "completed"
    },
    "tags": []
   },
   "outputs": [],
   "source": [
    "import matplotlib.pyplot as plt\n",
    "import seaborn as sns\n",
    "from scipy import stats"
   ]
  },
  {
   "cell_type": "markdown",
   "id": "e461252a",
   "metadata": {
    "papermill": {
     "duration": 0.015023,
     "end_time": "2025-09-09T09:40:45.378653",
     "exception": false,
     "start_time": "2025-09-09T09:40:45.363630",
     "status": "completed"
    },
    "tags": []
   },
   "source": [
    "<div style=\"\n",
    "    background-color:yellow; \n",
    "    color: black; \n",
    "    padding: 15px; \n",
    "    border-radius: 10px; \n",
    "    text-align: center; \n",
    "    font-size: 28px; \n",
    "    font-weight: bold;\n",
    "\">\n",
    "    Detecting Outliers\n",
    "</div>\n"
   ]
  },
  {
   "cell_type": "code",
   "execution_count": 32,
   "id": "159d1252",
   "metadata": {
    "execution": {
     "iopub.execute_input": "2025-09-09T09:40:45.411417Z",
     "iopub.status.busy": "2025-09-09T09:40:45.410908Z",
     "iopub.status.idle": "2025-09-09T09:40:45.737940Z",
     "shell.execute_reply": "2025-09-09T09:40:45.737102Z"
    },
    "papermill": {
     "duration": 0.343598,
     "end_time": "2025-09-09T09:40:45.739287",
     "exception": false,
     "start_time": "2025-09-09T09:40:45.395689",
     "status": "completed"
    },
    "tags": []
   },
   "outputs": [
    {
     "data": {
      "text/plain": [
       "<Axes: xlabel='price'>"
      ]
     },
     "execution_count": 32,
     "metadata": {},
     "output_type": "execute_result"
    },
    {
     "data": {
      "image/png": "[encoded data removed]",
      "text/plain": [
       "<Figure size 640x480 with 1 Axes>"
      ]
     },
     "metadata": {},
     "output_type": "display_data"
    }
   ],
   "source": [
    "sns.boxplot(x=paris_listings[\"price\"])\n"
   ]
  },
  {
   "cell_type": "code",
   "execution_count": 33,
   "id": "ba9cd4d9",
   "metadata": {
    "execution": {
     "iopub.execute_input": "2025-09-09T09:40:45.770321Z",
     "iopub.status.busy": "2025-09-09T09:40:45.769687Z",
     "iopub.status.idle": "2025-09-09T09:40:45.900132Z",
     "shell.execute_reply": "2025-09-09T09:40:45.899277Z"
    },
    "papermill": {
     "duration": 0.147544,
     "end_time": "2025-09-09T09:40:45.901712",
     "exception": false,
     "start_time": "2025-09-09T09:40:45.754168",
     "status": "completed"
    },
    "tags": []
   },
   "outputs": [
    {
     "data": {
      "text/plain": [
       "<Axes: >"
      ]
     },
     "execution_count": 33,
     "metadata": {},
     "output_type": "execute_result"
    },
    {
     "data": {
      "image/png": "[encoded data removed]",
      "text/plain": [
       "<Figure size 640x480 with 1 Axes>"
      ]
     },
     "metadata": {},
     "output_type": "display_data"
    }
   ],
   "source": [
    "#sns.boxplot(paris_listings[\"price\"])\n",
    "sns.boxplot(paris_listings[\"accommodates\"]) # \n"
   ]
  },
  {
   "cell_type": "code",
   "execution_count": 34,
   "id": "3591f0d5",
   "metadata": {
    "execution": {
     "iopub.execute_input": "2025-09-09T09:40:45.932875Z",
     "iopub.status.busy": "2025-09-09T09:40:45.932594Z",
     "iopub.status.idle": "2025-09-09T09:40:51.472468Z",
     "shell.execute_reply": "2025-09-09T09:40:51.471487Z"
    },
    "papermill": {
     "duration": 5.557369,
     "end_time": "2025-09-09T09:40:51.473987",
     "exception": false,
     "start_time": "2025-09-09T09:40:45.916618",
     "status": "completed"
    },
    "tags": []
   },
   "outputs": [
    {
     "data": {
      "text/plain": [
       "<Axes: xlabel='price', ylabel='Count'>"
      ]
     },
     "execution_count": 34,
     "metadata": {},
     "output_type": "execute_result"
    },
    {
     "data": {
      "image/png": "[encoded data removed]",
      "text/plain": [
       "<Figure size 640x480 with 1 Axes>"
      ]
     },
     "metadata": {},
     "output_type": "display_data"
    }
   ],
   "source": [
    "# pricing hist plot\n",
    "\n",
    "sns.histplot(paris_listings[\"price\"],kde = True)"
   ]
  },
  {
   "cell_type": "code",
   "execution_count": 35,
   "id": "d912e9fd",
   "metadata": {
    "execution": {
     "iopub.execute_input": "2025-09-09T09:40:51.507368Z",
     "iopub.status.busy": "2025-09-09T09:40:51.506115Z",
     "iopub.status.idle": "2025-09-09T09:40:51.513879Z",
     "shell.execute_reply": "2025-09-09T09:40:51.513090Z"
    },
    "papermill": {
     "duration": 0.025927,
     "end_time": "2025-09-09T09:40:51.515516",
     "exception": false,
     "start_time": "2025-09-09T09:40:51.489589",
     "status": "completed"
    },
    "tags": []
   },
   "outputs": [
    {
     "data": {
      "text/plain": [
       "(113.21317439430297, 214.5522329863787)"
      ]
     },
     "execution_count": 35,
     "metadata": {},
     "output_type": "execute_result"
    }
   ],
   "source": [
    "np.mean(paris_listings[\"price\"]),np.std(paris_listings[\"price\"])"
   ]
  },
  {
   "cell_type": "code",
   "execution_count": 36,
   "id": "ae0999ce",
   "metadata": {
    "execution": {
     "iopub.execute_input": "2025-09-09T09:40:51.548442Z",
     "iopub.status.busy": "2025-09-09T09:40:51.548064Z",
     "iopub.status.idle": "2025-09-09T09:40:51.553312Z",
     "shell.execute_reply": "2025-09-09T09:40:51.552632Z"
    },
    "papermill": {
     "duration": 0.023091,
     "end_time": "2025-09-09T09:40:51.554663",
     "exception": false,
     "start_time": "2025-09-09T09:40:51.531572",
     "status": "completed"
    },
    "tags": []
   },
   "outputs": [],
   "source": [
    " upper_limit = np.mean(paris_listings[\"price\"]) + 3*np.std(paris_listings[\"price\"])"
   ]
  },
  {
   "cell_type": "markdown",
   "id": "aafa31a6",
   "metadata": {
    "papermill": {
     "duration": 0.015834,
     "end_time": "2025-09-09T09:40:51.586578",
     "exception": false,
     "start_time": "2025-09-09T09:40:51.570744",
     "status": "completed"
    },
    "tags": []
   },
   "source": [
    "<div style=\"\n",
    "    background-color: yellow; \n",
    "    color: black; \n",
    "    padding: 15px; \n",
    "    border-radius: 10px; \n",
    "    text-align: center; \n",
    "    font-size: 28px; \n",
    "    font-weight: bold;\n",
    "\">\n",
    "    Removing Properties with Exponentially high prices, 3 Standard Deviation Away\n",
    "</div>\n"
   ]
  },
  {
   "cell_type": "code",
   "execution_count": 37,
   "id": "eca8b273",
   "metadata": {
    "execution": {
     "iopub.execute_input": "2025-09-09T09:40:51.619068Z",
     "iopub.status.busy": "2025-09-09T09:40:51.618756Z",
     "iopub.status.idle": "2025-09-09T09:40:51.648215Z",
     "shell.execute_reply": "2025-09-09T09:40:51.647220Z"
    },
    "papermill": {
     "duration": 0.047697,
     "end_time": "2025-09-09T09:40:51.649879",
     "exception": false,
     "start_time": "2025-09-09T09:40:51.602182",
     "status": "completed"
    },
    "tags": []
   },
   "outputs": [
    {
     "data": {
      "text/html": [
       "<div>\n",
       "<style scoped>\n",
       "    .dataframe tbody tr th:only-of-type {\n",
       "        vertical-align: middle;\n",
       "    }\n",
       "\n",
       "    .dataframe tbody tr th {\n",
       "        vertical-align: top;\n",
       "    }\n",
       "\n",
       "    .dataframe thead th {\n",
       "        text-align: right;\n",
       "    }\n",
       "</style>\n",
       "<table border=\"1\" class=\"dataframe\">\n",
       "  <thead>\n",
       "    <tr style=\"text-align: right;\">\n",
       "      <th></th>\n",
       "      <th>listing_id</th>\n",
       "      <th>host_since</th>\n",
       "      <th>accommodates</th>\n",
       "      <th>price</th>\n",
       "    </tr>\n",
       "  </thead>\n",
       "  <tbody>\n",
       "    <tr>\n",
       "      <th>count</th>\n",
       "      <td>6.419200e+04</td>\n",
       "      <td>64192</td>\n",
       "      <td>64192.000000</td>\n",
       "      <td>64192.000000</td>\n",
       "    </tr>\n",
       "    <tr>\n",
       "      <th>mean</th>\n",
       "      <td>2.417964e+07</td>\n",
       "      <td>2015-10-28 06:37:15.643070720</td>\n",
       "      <td>3.018367</td>\n",
       "      <td>103.218376</td>\n",
       "    </tr>\n",
       "    <tr>\n",
       "      <th>min</th>\n",
       "      <td>2.577000e+03</td>\n",
       "      <td>2008-08-30 00:00:00</td>\n",
       "      <td>1.000000</td>\n",
       "      <td>8.000000</td>\n",
       "    </tr>\n",
       "    <tr>\n",
       "      <th>25%</th>\n",
       "      <td>1.176660e+07</td>\n",
       "      <td>2014-03-07 00:00:00</td>\n",
       "      <td>2.000000</td>\n",
       "      <td>59.000000</td>\n",
       "    </tr>\n",
       "    <tr>\n",
       "      <th>50%</th>\n",
       "      <td>2.383710e+07</td>\n",
       "      <td>2015-07-05 00:00:00</td>\n",
       "      <td>2.000000</td>\n",
       "      <td>80.000000</td>\n",
       "    </tr>\n",
       "    <tr>\n",
       "      <th>75%</th>\n",
       "      <td>3.714562e+07</td>\n",
       "      <td>2017-05-20 00:00:00</td>\n",
       "      <td>4.000000</td>\n",
       "      <td>119.000000</td>\n",
       "    </tr>\n",
       "    <tr>\n",
       "      <th>max</th>\n",
       "      <td>4.809185e+07</td>\n",
       "      <td>2021-02-07 00:00:00</td>\n",
       "      <td>16.000000</td>\n",
       "      <td>756.000000</td>\n",
       "    </tr>\n",
       "    <tr>\n",
       "      <th>std</th>\n",
       "      <td>1.431458e+07</td>\n",
       "      <td>NaN</td>\n",
       "      <td>1.528200</td>\n",
       "      <td>81.350333</td>\n",
       "    </tr>\n",
       "  </tbody>\n",
       "</table>\n",
       "</div>"
      ],
      "text/plain": [
       "         listing_id                     host_since  accommodates         price\n",
       "count  6.419200e+04                          64192  64192.000000  64192.000000\n",
       "mean   2.417964e+07  2015-10-28 06:37:15.643070720      3.018367    103.218376\n",
       "min    2.577000e+03            2008-08-30 00:00:00      1.000000      8.000000\n",
       "25%    1.176660e+07            2014-03-07 00:00:00      2.000000     59.000000\n",
       "50%    2.383710e+07            2015-07-05 00:00:00      2.000000     80.000000\n",
       "75%    3.714562e+07            2017-05-20 00:00:00      4.000000    119.000000\n",
       "max    4.809185e+07            2021-02-07 00:00:00     16.000000    756.000000\n",
       "std    1.431458e+07                            NaN      1.528200     81.350333"
      ]
     },
     "execution_count": 37,
     "metadata": {},
     "output_type": "execute_result"
    }
   ],
   "source": [
    "paris_listings = paris_listings[paris_listings[\"price\"] <= upper_limit]\n",
    "paris_listings.describe()\n"
   ]
  },
  {
   "cell_type": "code",
   "execution_count": 38,
   "id": "d0aa4e04",
   "metadata": {
    "execution": {
     "iopub.execute_input": "2025-09-09T09:40:51.682672Z",
     "iopub.status.busy": "2025-09-09T09:40:51.682319Z",
     "iopub.status.idle": "2025-09-09T09:40:51.709554Z",
     "shell.execute_reply": "2025-09-09T09:40:51.708615Z"
    },
    "papermill": {
     "duration": 0.045581,
     "end_time": "2025-09-09T09:40:51.711272",
     "exception": false,
     "start_time": "2025-09-09T09:40:51.665691",
     "status": "completed"
    },
    "tags": []
   },
   "outputs": [
    {
     "data": {
      "text/html": [
       "<div>\n",
       "<style scoped>\n",
       "    .dataframe tbody tr th:only-of-type {\n",
       "        vertical-align: middle;\n",
       "    }\n",
       "\n",
       "    .dataframe tbody tr th {\n",
       "        vertical-align: top;\n",
       "    }\n",
       "\n",
       "    .dataframe thead th {\n",
       "        text-align: right;\n",
       "    }\n",
       "</style>\n",
       "<table border=\"1\" class=\"dataframe\">\n",
       "  <thead>\n",
       "    <tr style=\"text-align: right;\">\n",
       "      <th></th>\n",
       "      <th>neighbourhood</th>\n",
       "      <th>city</th>\n",
       "    </tr>\n",
       "  </thead>\n",
       "  <tbody>\n",
       "    <tr>\n",
       "      <th>count</th>\n",
       "      <td>64192</td>\n",
       "      <td>64192</td>\n",
       "    </tr>\n",
       "    <tr>\n",
       "      <th>unique</th>\n",
       "      <td>20</td>\n",
       "      <td>1</td>\n",
       "    </tr>\n",
       "    <tr>\n",
       "      <th>top</th>\n",
       "      <td>Buttes-Montmartre</td>\n",
       "      <td>Paris</td>\n",
       "    </tr>\n",
       "    <tr>\n",
       "      <th>freq</th>\n",
       "      <td>7203</td>\n",
       "      <td>64192</td>\n",
       "    </tr>\n",
       "  </tbody>\n",
       "</table>\n",
       "</div>"
      ],
      "text/plain": [
       "            neighbourhood   city\n",
       "count               64192  64192\n",
       "unique                 20      1\n",
       "top     Buttes-Montmartre  Paris\n",
       "freq                 7203  64192"
      ]
     },
     "execution_count": 38,
     "metadata": {},
     "output_type": "execute_result"
    }
   ],
   "source": [
    "paris_listings.describe(include = \"object\")"
   ]
  },
  {
   "cell_type": "markdown",
   "id": "0b4c0da2",
   "metadata": {
    "papermill": {
     "duration": 0.015348,
     "end_time": "2025-09-09T09:40:51.742854",
     "exception": false,
     "start_time": "2025-09-09T09:40:51.727506",
     "status": "completed"
    },
    "tags": []
   },
   "source": [
    "### Data Cleaning Summary\n",
    "\n",
    "- **Initial entries:** 64,690  \n",
    "- **Final entries after cleaning:** 64,192  \n",
    "- **Entries removed:** 498  \n",
    "\n",
    "This means that a total of **498 records** were removed during the cleaning process,  \n",
    "which accounts for only **~0.77% of the dataset**.  \n",
    "\n",
    "The cleaning process therefore preserved the vast majority of data,  \n",
    "while ensuring that inconsistent or invalid records were excluded.\n"
   ]
  },
  {
   "cell_type": "markdown",
   "id": "7256f363",
   "metadata": {
    "papermill": {
     "duration": 0.015584,
     "end_time": "2025-09-09T09:40:51.774459",
     "exception": false,
     "start_time": "2025-09-09T09:40:51.758875",
     "status": "completed"
    },
    "tags": []
   },
   "source": []
  },
  {
   "cell_type": "code",
   "execution_count": 39,
   "id": "06e1cac7",
   "metadata": {
    "execution": {
     "iopub.execute_input": "2025-09-09T09:40:51.807218Z",
     "iopub.status.busy": "2025-09-09T09:40:51.806908Z",
     "iopub.status.idle": "2025-09-09T09:40:51.817869Z",
     "shell.execute_reply": "2025-09-09T09:40:51.816814Z"
    },
    "papermill": {
     "duration": 0.029235,
     "end_time": "2025-09-09T09:40:51.819410",
     "exception": false,
     "start_time": "2025-09-09T09:40:51.790175",
     "status": "completed"
    },
    "tags": []
   },
   "outputs": [
    {
     "data": {
      "text/plain": [
       "neighbourhood\n",
       "Buttes-Montmartre      7203\n",
       "Popincourt             6188\n",
       "Vaugirard              4799\n",
       "Enclos-St-Laurent      4598\n",
       "Batignolles-Monceau    4309\n",
       "Menilmontant           3747\n",
       "Buttes-Chaumont        3712\n",
       "Passy                  3158\n",
       "Opera                  3141\n",
       "Temple                 2920\n",
       "Reuilly                2644\n",
       "Observatoire           2471\n",
       "Gobelins               2271\n",
       "Bourse                 2147\n",
       "Pantheon               2127\n",
       "Luxembourg             1975\n",
       "Hotel-de-Ville         1958\n",
       "Palais-Bourbon         1741\n",
       "Elysee                 1694\n",
       "Louvre                 1389\n",
       "Name: count, dtype: int64"
      ]
     },
     "execution_count": 39,
     "metadata": {},
     "output_type": "execute_result"
    }
   ],
   "source": [
    "paris_listings[\"neighbourhood\"].value_counts()"
   ]
  },
  {
   "cell_type": "code",
   "execution_count": 40,
   "id": "ac1ad5f6",
   "metadata": {
    "execution": {
     "iopub.execute_input": "2025-09-09T09:40:51.852612Z",
     "iopub.status.busy": "2025-09-09T09:40:51.852257Z",
     "iopub.status.idle": "2025-09-09T09:40:51.871002Z",
     "shell.execute_reply": "2025-09-09T09:40:51.870167Z"
    },
    "papermill": {
     "duration": 0.037073,
     "end_time": "2025-09-09T09:40:51.872459",
     "exception": false,
     "start_time": "2025-09-09T09:40:51.835386",
     "status": "completed"
    },
    "tags": []
   },
   "outputs": [
    {
     "data": {
      "text/html": [
       "<div>\n",
       "<style scoped>\n",
       "    .dataframe tbody tr th:only-of-type {\n",
       "        vertical-align: middle;\n",
       "    }\n",
       "\n",
       "    .dataframe tbody tr th {\n",
       "        vertical-align: top;\n",
       "    }\n",
       "\n",
       "    .dataframe thead th {\n",
       "        text-align: right;\n",
       "    }\n",
       "</style>\n",
       "<table border=\"1\" class=\"dataframe\">\n",
       "  <thead>\n",
       "    <tr style=\"text-align: right;\">\n",
       "      <th></th>\n",
       "      <th>price</th>\n",
       "    </tr>\n",
       "    <tr>\n",
       "      <th>neighbourhood</th>\n",
       "      <th></th>\n",
       "    </tr>\n",
       "  </thead>\n",
       "  <tbody>\n",
       "    <tr>\n",
       "      <th>Batignolles-Monceau</th>\n",
       "      <td>96.877466</td>\n",
       "    </tr>\n",
       "    <tr>\n",
       "      <th>Bourse</th>\n",
       "      <td>132.476479</td>\n",
       "    </tr>\n",
       "    <tr>\n",
       "      <th>Buttes-Chaumont</th>\n",
       "      <td>72.912985</td>\n",
       "    </tr>\n",
       "    <tr>\n",
       "      <th>Buttes-Montmartre</th>\n",
       "      <td>81.133694</td>\n",
       "    </tr>\n",
       "    <tr>\n",
       "      <th>Elysee</th>\n",
       "      <td>170.344746</td>\n",
       "    </tr>\n",
       "    <tr>\n",
       "      <th>Enclos-St-Laurent</th>\n",
       "      <td>96.167682</td>\n",
       "    </tr>\n",
       "    <tr>\n",
       "      <th>Gobelins</th>\n",
       "      <td>82.245266</td>\n",
       "    </tr>\n",
       "    <tr>\n",
       "      <th>Hotel-de-Ville</th>\n",
       "      <td>137.365169</td>\n",
       "    </tr>\n",
       "    <tr>\n",
       "      <th>Louvre</th>\n",
       "      <td>149.980562</td>\n",
       "    </tr>\n",
       "    <tr>\n",
       "      <th>Luxembourg</th>\n",
       "      <td>144.372658</td>\n",
       "    </tr>\n",
       "    <tr>\n",
       "      <th>Menilmontant</th>\n",
       "      <td>72.410729</td>\n",
       "    </tr>\n",
       "    <tr>\n",
       "      <th>Observatoire</th>\n",
       "      <td>91.034399</td>\n",
       "    </tr>\n",
       "    <tr>\n",
       "      <th>Opera</th>\n",
       "      <td>113.708055</td>\n",
       "    </tr>\n",
       "    <tr>\n",
       "      <th>Palais-Bourbon</th>\n",
       "      <td>142.155658</td>\n",
       "    </tr>\n",
       "    <tr>\n",
       "      <th>Pantheon</th>\n",
       "      <td>117.982605</td>\n",
       "    </tr>\n",
       "    <tr>\n",
       "      <th>Passy</th>\n",
       "      <td>132.595313</td>\n",
       "    </tr>\n",
       "    <tr>\n",
       "      <th>Popincourt</th>\n",
       "      <td>88.926632</td>\n",
       "    </tr>\n",
       "    <tr>\n",
       "      <th>Reuilly</th>\n",
       "      <td>83.023071</td>\n",
       "    </tr>\n",
       "    <tr>\n",
       "      <th>Temple</th>\n",
       "      <td>126.439384</td>\n",
       "    </tr>\n",
       "    <tr>\n",
       "      <th>Vaugirard</th>\n",
       "      <td>99.879767</td>\n",
       "    </tr>\n",
       "  </tbody>\n",
       "</table>\n",
       "</div>"
      ],
      "text/plain": [
       "                          price\n",
       "neighbourhood                  \n",
       "Batignolles-Monceau   96.877466\n",
       "Bourse               132.476479\n",
       "Buttes-Chaumont       72.912985\n",
       "Buttes-Montmartre     81.133694\n",
       "Elysee               170.344746\n",
       "Enclos-St-Laurent     96.167682\n",
       "Gobelins              82.245266\n",
       "Hotel-de-Ville       137.365169\n",
       "Louvre               149.980562\n",
       "Luxembourg           144.372658\n",
       "Menilmontant          72.410729\n",
       "Observatoire          91.034399\n",
       "Opera                113.708055\n",
       "Palais-Bourbon       142.155658\n",
       "Pantheon             117.982605\n",
       "Passy                132.595313\n",
       "Popincourt            88.926632\n",
       "Reuilly               83.023071\n",
       "Temple               126.439384\n",
       "Vaugirard             99.879767"
      ]
     },
     "execution_count": 40,
     "metadata": {},
     "output_type": "execute_result"
    }
   ],
   "source": [
    "paris_listings_avg_price = paris_listings.groupby(\"neighbourhood\").agg({\"price\":\"mean\"})\n",
    "paris_listings_avg_price\n"
   ]
  },
  {
   "cell_type": "code",
   "execution_count": 41,
   "id": "04bb21c1",
   "metadata": {
    "execution": {
     "iopub.execute_input": "2025-09-09T09:40:51.905494Z",
     "iopub.status.busy": "2025-09-09T09:40:51.905121Z",
     "iopub.status.idle": "2025-09-09T09:40:51.909078Z",
     "shell.execute_reply": "2025-09-09T09:40:51.908392Z"
    },
    "papermill": {
     "duration": 0.021952,
     "end_time": "2025-09-09T09:40:51.910465",
     "exception": false,
     "start_time": "2025-09-09T09:40:51.888513",
     "status": "completed"
    },
    "tags": []
   },
   "outputs": [],
   "source": [
    "# now we will sort it high price above "
   ]
  },
  {
   "cell_type": "code",
   "execution_count": 42,
   "id": "700b7a9b",
   "metadata": {
    "execution": {
     "iopub.execute_input": "2025-09-09T09:40:51.943491Z",
     "iopub.status.busy": "2025-09-09T09:40:51.943127Z",
     "iopub.status.idle": "2025-09-09T09:40:51.954838Z",
     "shell.execute_reply": "2025-09-09T09:40:51.953984Z"
    },
    "papermill": {
     "duration": 0.02967,
     "end_time": "2025-09-09T09:40:51.956240",
     "exception": false,
     "start_time": "2025-09-09T09:40:51.926570",
     "status": "completed"
    },
    "tags": []
   },
   "outputs": [],
   "source": [
    "paris_listings_avg_price = paris_listings.groupby(\"neighbourhood\").agg({\"price\":\"mean\"})\n",
    "paris_listings_avg_price.sort_values(\"price\",ascending = False , inplace = True)\n"
   ]
  },
  {
   "cell_type": "markdown",
   "id": "624320e1",
   "metadata": {
    "papermill": {
     "duration": 0.015534,
     "end_time": "2025-09-09T09:40:51.987964",
     "exception": false,
     "start_time": "2025-09-09T09:40:51.972430",
     "status": "completed"
    },
    "tags": []
   },
   "source": [
    "<div style=\"\n",
    "    background-color: yellow; \n",
    "    color: black; \n",
    "    padding: 15px; \n",
    "    border-radius: 10px; \n",
    "    text-align: center; \n",
    "    font-size: 28px; \n",
    "    font-weight: bold;\n",
    "\">\n",
    "    Looking at the Most relevant Localities in Paris\n",
    "</div>\n"
   ]
  },
  {
   "cell_type": "code",
   "execution_count": 43,
   "id": "07583060",
   "metadata": {
    "execution": {
     "iopub.execute_input": "2025-09-09T09:40:52.020849Z",
     "iopub.status.busy": "2025-09-09T09:40:52.020538Z",
     "iopub.status.idle": "2025-09-09T09:40:52.028914Z",
     "shell.execute_reply": "2025-09-09T09:40:52.028262Z"
    },
    "papermill": {
     "duration": 0.026409,
     "end_time": "2025-09-09T09:40:52.030086",
     "exception": false,
     "start_time": "2025-09-09T09:40:52.003677",
     "status": "completed"
    },
    "tags": []
   },
   "outputs": [
    {
     "data": {
      "text/html": [
       "<div>\n",
       "<style scoped>\n",
       "    .dataframe tbody tr th:only-of-type {\n",
       "        vertical-align: middle;\n",
       "    }\n",
       "\n",
       "    .dataframe tbody tr th {\n",
       "        vertical-align: top;\n",
       "    }\n",
       "\n",
       "    .dataframe thead th {\n",
       "        text-align: right;\n",
       "    }\n",
       "</style>\n",
       "<table border=\"1\" class=\"dataframe\">\n",
       "  <thead>\n",
       "    <tr style=\"text-align: right;\">\n",
       "      <th></th>\n",
       "      <th>price</th>\n",
       "    </tr>\n",
       "    <tr>\n",
       "      <th>neighbourhood</th>\n",
       "      <th></th>\n",
       "    </tr>\n",
       "  </thead>\n",
       "  <tbody>\n",
       "    <tr>\n",
       "      <th>Elysee</th>\n",
       "      <td>170.344746</td>\n",
       "    </tr>\n",
       "    <tr>\n",
       "      <th>Louvre</th>\n",
       "      <td>149.980562</td>\n",
       "    </tr>\n",
       "    <tr>\n",
       "      <th>Luxembourg</th>\n",
       "      <td>144.372658</td>\n",
       "    </tr>\n",
       "    <tr>\n",
       "      <th>Palais-Bourbon</th>\n",
       "      <td>142.155658</td>\n",
       "    </tr>\n",
       "    <tr>\n",
       "      <th>Hotel-de-Ville</th>\n",
       "      <td>137.365169</td>\n",
       "    </tr>\n",
       "    <tr>\n",
       "      <th>Passy</th>\n",
       "      <td>132.595313</td>\n",
       "    </tr>\n",
       "    <tr>\n",
       "      <th>Bourse</th>\n",
       "      <td>132.476479</td>\n",
       "    </tr>\n",
       "    <tr>\n",
       "      <th>Temple</th>\n",
       "      <td>126.439384</td>\n",
       "    </tr>\n",
       "    <tr>\n",
       "      <th>Pantheon</th>\n",
       "      <td>117.982605</td>\n",
       "    </tr>\n",
       "    <tr>\n",
       "      <th>Opera</th>\n",
       "      <td>113.708055</td>\n",
       "    </tr>\n",
       "    <tr>\n",
       "      <th>Vaugirard</th>\n",
       "      <td>99.879767</td>\n",
       "    </tr>\n",
       "    <tr>\n",
       "      <th>Batignolles-Monceau</th>\n",
       "      <td>96.877466</td>\n",
       "    </tr>\n",
       "    <tr>\n",
       "      <th>Enclos-St-Laurent</th>\n",
       "      <td>96.167682</td>\n",
       "    </tr>\n",
       "    <tr>\n",
       "      <th>Observatoire</th>\n",
       "      <td>91.034399</td>\n",
       "    </tr>\n",
       "    <tr>\n",
       "      <th>Popincourt</th>\n",
       "      <td>88.926632</td>\n",
       "    </tr>\n",
       "    <tr>\n",
       "      <th>Reuilly</th>\n",
       "      <td>83.023071</td>\n",
       "    </tr>\n",
       "    <tr>\n",
       "      <th>Gobelins</th>\n",
       "      <td>82.245266</td>\n",
       "    </tr>\n",
       "    <tr>\n",
       "      <th>Buttes-Montmartre</th>\n",
       "      <td>81.133694</td>\n",
       "    </tr>\n",
       "    <tr>\n",
       "      <th>Buttes-Chaumont</th>\n",
       "      <td>72.912985</td>\n",
       "    </tr>\n",
       "    <tr>\n",
       "      <th>Menilmontant</th>\n",
       "      <td>72.410729</td>\n",
       "    </tr>\n",
       "  </tbody>\n",
       "</table>\n",
       "</div>"
      ],
      "text/plain": [
       "                          price\n",
       "neighbourhood                  \n",
       "Elysee               170.344746\n",
       "Louvre               149.980562\n",
       "Luxembourg           144.372658\n",
       "Palais-Bourbon       142.155658\n",
       "Hotel-de-Ville       137.365169\n",
       "Passy                132.595313\n",
       "Bourse               132.476479\n",
       "Temple               126.439384\n",
       "Pantheon             117.982605\n",
       "Opera                113.708055\n",
       "Vaugirard             99.879767\n",
       "Batignolles-Monceau   96.877466\n",
       "Enclos-St-Laurent     96.167682\n",
       "Observatoire          91.034399\n",
       "Popincourt            88.926632\n",
       "Reuilly               83.023071\n",
       "Gobelins              82.245266\n",
       "Buttes-Montmartre     81.133694\n",
       "Buttes-Chaumont       72.912985\n",
       "Menilmontant          72.410729"
      ]
     },
     "execution_count": 43,
     "metadata": {},
     "output_type": "execute_result"
    }
   ],
   "source": [
    "paris_listings_avg_price"
   ]
  },
  {
   "cell_type": "code",
   "execution_count": 44,
   "id": "86492ac0",
   "metadata": {
    "execution": {
     "iopub.execute_input": "2025-09-09T09:40:52.063765Z",
     "iopub.status.busy": "2025-09-09T09:40:52.063460Z",
     "iopub.status.idle": "2025-09-09T09:40:52.359235Z",
     "shell.execute_reply": "2025-09-09T09:40:52.358378Z"
    },
    "papermill": {
     "duration": 0.314299,
     "end_time": "2025-09-09T09:40:52.360926",
     "exception": false,
     "start_time": "2025-09-09T09:40:52.046627",
     "status": "completed"
    },
    "tags": []
   },
   "outputs": [
    {
     "data": {
      "text/plain": [
       "<Axes: xlabel='price', ylabel='neighbourhood'>"
      ]
     },
     "execution_count": 44,
     "metadata": {},
     "output_type": "execute_result"
    },
    {
     "data": {
      "image/png": "[encoded data removed]",
      "text/plain": [
       "<Figure size 640x480 with 1 Axes>"
      ]
     },
     "metadata": {},
     "output_type": "display_data"
    }
   ],
   "source": [
    "sns.barplot(data = paris_listings_avg_price,\n",
    "           x = \"price\",\n",
    "           y =paris_listings_avg_price.index)"
   ]
  },
  {
   "cell_type": "markdown",
   "id": "383448cd",
   "metadata": {
    "papermill": {
     "duration": 0.017587,
     "end_time": "2025-09-09T09:40:52.396913",
     "exception": false,
     "start_time": "2025-09-09T09:40:52.379326",
     "status": "completed"
    },
    "tags": []
   },
   "source": [
    "### Insight on Average Nightly Prices by Locality in Paris\n",
    "\n",
    "- The **most expensive areas** are central and prestigious districts such as **Elysee (€170/night)**, **Louvre (€150/night)**, and **Luxembourg (€144/night)**. These neighborhoods are close to iconic landmarks, luxury shopping, and government or cultural institutions, which drives up demand and prices.  \n",
    "\n",
    "- Mid-range prices are seen in areas like **Temple (€126/night)**, **Pantheon (€118/night)**, and **Opera (€114/night)**. These are still popular, but slightly less exclusive compared to the top-tier localities.  \n",
    "\n",
    "- The **more affordable neighborhoods** include **Menilmontant (€72/night)**, **Buttes-Chaumont (€73/night)**, and **Buttes-Montmartre (€81/night)**. These districts are further from the tourist-heavy city center but may appeal to budget-conscious travelers or those seeking a more local experience.  \n",
    "\n",
    "**Overall:** The price gradient reflects proximity to cultural hotspots and affluence of the locality. Central, historic, and tourist-heavy areas command higher prices, while outer neighborhoods offer budget-friendly options.\n"
   ]
  },
  {
   "cell_type": "code",
   "execution_count": 45,
   "id": "a16e7d22",
   "metadata": {
    "execution": {
     "iopub.execute_input": "2025-09-09T09:40:52.433486Z",
     "iopub.status.busy": "2025-09-09T09:40:52.433126Z",
     "iopub.status.idle": "2025-09-09T09:40:52.762251Z",
     "shell.execute_reply": "2025-09-09T09:40:52.761411Z"
    },
    "papermill": {
     "duration": 0.349665,
     "end_time": "2025-09-09T09:40:52.764201",
     "exception": false,
     "start_time": "2025-09-09T09:40:52.414536",
     "status": "completed"
    },
    "tags": []
   },
   "outputs": [
    {
     "data": {
      "image/png": "[encoded data removed]",
      "text/plain": [
       "<Figure size 1200x800 with 1 Axes>"
      ]
     },
     "metadata": {},
     "output_type": "display_data"
    }
   ],
   "source": [
    "plt.figure(figsize = (12,8))\n",
    "sns.barplot(data = paris_listings_avg_price,\n",
    "           x = \"price\",\n",
    "           y =paris_listings_avg_price.index,color = \"#FC642D\")\n",
    "        \n",
    "plt.title(\"Neighbourhood in paris(Premium Localities at the top!)\")\n",
    "plt.xlabel(\"How Expensive?(Euros)\")\n",
    "plt.ylabel(\"Prominent Localities with AirBnBs\")\n",
    "plt.show()"
   ]
  },
  {
   "cell_type": "markdown",
   "id": "f4c754b5",
   "metadata": {
    "papermill": {
     "duration": 0.019783,
     "end_time": "2025-09-09T09:40:52.803299",
     "exception": false,
     "start_time": "2025-09-09T09:40:52.783516",
     "status": "completed"
    },
    "tags": []
   },
   "source": [
    "### Insight on Average Nightly Prices by Locality in Paris\n",
    "\n",
    "- The **most expensive areas** are central and prestigious districts such as **Elysee (€170/night)**, **Louvre (€150/night)**, and **Luxembourg (€144/night)**. These neighborhoods are close to iconic landmarks, luxury shopping, and government or cultural institutions, which drives up demand and prices.  \n",
    "\n",
    "- Mid-range prices are seen in areas like **Temple (€126/night)**, **Pantheon (€118/night)**, and **Opera (€114/night)**. These are still popular, but slightly less exclusive compared to the top-tier localities.  \n",
    "\n",
    "- The **more affordable neighborhoods** include **Menilmontant (€72/night)**, **Buttes-Chaumont (€73/night)**, and **Buttes-Montmartre (€81/night)**. These districts are further from the tourist-heavy city center but may appeal to budget-conscious travelers or those seeking a more local experience.  \n",
    "\n",
    "**Overall:** The price gradient reflects proximity to cultural hotspots and affluence of the locality. Central, historic, and tourist-heavy areas command higher prices, while outer neighborhoods offer budget-friendly options.\n"
   ]
  },
  {
   "cell_type": "markdown",
   "id": "54ca8ac9",
   "metadata": {
    "papermill": {
     "duration": 0.018491,
     "end_time": "2025-09-09T09:40:52.841648",
     "exception": false,
     "start_time": "2025-09-09T09:40:52.823157",
     "status": "completed"
    },
    "tags": []
   },
   "source": [
    "<div style=\"\n",
    "    background-color: yellow; \n",
    "    color: black; \n",
    "    padding: 15px; \n",
    "    border-radius: 10px; \n",
    "    text-align: center; \n",
    "    font-size: 28px; \n",
    "    font-weight: bold;\n",
    "\">\n",
    "    Does Price Change as per number of Guests?\n",
    "</div>\n"
   ]
  },
  {
   "cell_type": "code",
   "execution_count": 46,
   "id": "1c2f3db1",
   "metadata": {
    "execution": {
     "iopub.execute_input": "2025-09-09T09:40:52.880129Z",
     "iopub.status.busy": "2025-09-09T09:40:52.879844Z",
     "iopub.status.idle": "2025-09-09T09:40:52.883693Z",
     "shell.execute_reply": "2025-09-09T09:40:52.882904Z"
    },
    "papermill": {
     "duration": 0.024751,
     "end_time": "2025-09-09T09:40:52.885129",
     "exception": false,
     "start_time": "2025-09-09T09:40:52.860378",
     "status": "completed"
    },
    "tags": []
   },
   "outputs": [],
   "source": [
    "# NOW WE WILL CHECK HOW ACCOMMODATES CHANGES THE PRICE "
   ]
  },
  {
   "cell_type": "code",
   "execution_count": 47,
   "id": "b5a837f8",
   "metadata": {
    "execution": {
     "iopub.execute_input": "2025-09-09T09:40:52.923939Z",
     "iopub.status.busy": "2025-09-09T09:40:52.923659Z",
     "iopub.status.idle": "2025-09-09T09:40:52.931609Z",
     "shell.execute_reply": "2025-09-09T09:40:52.930858Z"
    },
    "papermill": {
     "duration": 0.029042,
     "end_time": "2025-09-09T09:40:52.933013",
     "exception": false,
     "start_time": "2025-09-09T09:40:52.903971",
     "status": "completed"
    },
    "tags": []
   },
   "outputs": [],
   "source": [
    "paris_listings_accommodates = paris_listings.groupby(\"accommodates\").agg({\"price\":\"mean\"})\n",
    "paris_listings_accommodates.sort_values(\"price\" , ascending = False , inplace = True)\n"
   ]
  },
  {
   "cell_type": "code",
   "execution_count": 48,
   "id": "3fd88858",
   "metadata": {
    "execution": {
     "iopub.execute_input": "2025-09-09T09:40:52.972128Z",
     "iopub.status.busy": "2025-09-09T09:40:52.971370Z",
     "iopub.status.idle": "2025-09-09T09:40:52.979323Z",
     "shell.execute_reply": "2025-09-09T09:40:52.978563Z"
    },
    "papermill": {
     "duration": 0.02879,
     "end_time": "2025-09-09T09:40:52.980708",
     "exception": false,
     "start_time": "2025-09-09T09:40:52.951918",
     "status": "completed"
    },
    "tags": []
   },
   "outputs": [
    {
     "data": {
      "text/html": [
       "<div>\n",
       "<style scoped>\n",
       "    .dataframe tbody tr th:only-of-type {\n",
       "        vertical-align: middle;\n",
       "    }\n",
       "\n",
       "    .dataframe tbody tr th {\n",
       "        vertical-align: top;\n",
       "    }\n",
       "\n",
       "    .dataframe thead th {\n",
       "        text-align: right;\n",
       "    }\n",
       "</style>\n",
       "<table border=\"1\" class=\"dataframe\">\n",
       "  <thead>\n",
       "    <tr style=\"text-align: right;\">\n",
       "      <th></th>\n",
       "      <th>price</th>\n",
       "    </tr>\n",
       "    <tr>\n",
       "      <th>accommodates</th>\n",
       "      <th></th>\n",
       "    </tr>\n",
       "  </thead>\n",
       "  <tbody>\n",
       "    <tr>\n",
       "      <th>13</th>\n",
       "      <td>475.000000</td>\n",
       "    </tr>\n",
       "    <tr>\n",
       "      <th>14</th>\n",
       "      <td>438.125000</td>\n",
       "    </tr>\n",
       "    <tr>\n",
       "      <th>11</th>\n",
       "      <td>419.880000</td>\n",
       "    </tr>\n",
       "    <tr>\n",
       "      <th>12</th>\n",
       "      <td>394.542373</td>\n",
       "    </tr>\n",
       "    <tr>\n",
       "      <th>15</th>\n",
       "      <td>337.250000</td>\n",
       "    </tr>\n",
       "    <tr>\n",
       "      <th>9</th>\n",
       "      <td>335.807229</td>\n",
       "    </tr>\n",
       "    <tr>\n",
       "      <th>10</th>\n",
       "      <td>329.181818</td>\n",
       "    </tr>\n",
       "    <tr>\n",
       "      <th>8</th>\n",
       "      <td>271.515510</td>\n",
       "    </tr>\n",
       "    <tr>\n",
       "      <th>7</th>\n",
       "      <td>231.254902</td>\n",
       "    </tr>\n",
       "    <tr>\n",
       "      <th>16</th>\n",
       "      <td>213.117647</td>\n",
       "    </tr>\n",
       "    <tr>\n",
       "      <th>6</th>\n",
       "      <td>197.684241</td>\n",
       "    </tr>\n",
       "    <tr>\n",
       "      <th>5</th>\n",
       "      <td>157.655578</td>\n",
       "    </tr>\n",
       "    <tr>\n",
       "      <th>4</th>\n",
       "      <td>118.330048</td>\n",
       "    </tr>\n",
       "    <tr>\n",
       "      <th>3</th>\n",
       "      <td>95.861606</td>\n",
       "    </tr>\n",
       "    <tr>\n",
       "      <th>2</th>\n",
       "      <td>78.913514</td>\n",
       "    </tr>\n",
       "    <tr>\n",
       "      <th>1</th>\n",
       "      <td>55.750155</td>\n",
       "    </tr>\n",
       "  </tbody>\n",
       "</table>\n",
       "</div>"
      ],
      "text/plain": [
       "                   price\n",
       "accommodates            \n",
       "13            475.000000\n",
       "14            438.125000\n",
       "11            419.880000\n",
       "12            394.542373\n",
       "15            337.250000\n",
       "9             335.807229\n",
       "10            329.181818\n",
       "8             271.515510\n",
       "7             231.254902\n",
       "16            213.117647\n",
       "6             197.684241\n",
       "5             157.655578\n",
       "4             118.330048\n",
       "3              95.861606\n",
       "2              78.913514\n",
       "1              55.750155"
      ]
     },
     "execution_count": 48,
     "metadata": {},
     "output_type": "execute_result"
    }
   ],
   "source": [
    "paris_listings_accommodates"
   ]
  },
  {
   "cell_type": "markdown",
   "id": "39b67f05",
   "metadata": {
    "papermill": {
     "duration": 0.018677,
     "end_time": "2025-09-09T09:40:53.018388",
     "exception": false,
     "start_time": "2025-09-09T09:40:52.999711",
     "status": "completed"
    },
    "tags": []
   },
   "source": [
    "### Insight on Accommodation Capacity and Average Prices\n",
    "\n",
    "- As expected, listings that accommodate **more guests** tend to have **higher nightly prices**.  \n",
    "  - Small units for **1–2 guests** are the cheapest, averaging around **€56–79/night**.  \n",
    "  - Medium-sized listings for **4–6 guests** range from **€118–198/night**.  \n",
    "  - Large properties hosting **10+ guests** are much more expensive, often exceeding **€300/night**.\n",
    "\n",
    "- The **highest average prices** are for large group accommodations:  \n",
    "  - **13 guests: €475/night**  \n",
    "  - **14 guests: €438/night**  \n",
    "  - **11 guests: €420/night**  \n",
    "\n",
    "- Interestingly, beyond a certain point (e.g., 15–16 guests), the average price does not continue to rise proportionally, suggesting a niche but limited demand for **very large properties**.\n",
    "\n",
    "**Overall:** Prices scale with accommodation size, but the relationship is not perfectly linear. Small apartments dominate budget travel, while large listings cater to premium or group stays, commanding much higher rates.\n"
   ]
  },
  {
   "cell_type": "code",
   "execution_count": 49,
   "id": "9d0d8474",
   "metadata": {
    "execution": {
     "iopub.execute_input": "2025-09-09T09:40:53.057746Z",
     "iopub.status.busy": "2025-09-09T09:40:53.057463Z",
     "iopub.status.idle": "2025-09-09T09:40:53.421979Z",
     "shell.execute_reply": "2025-09-09T09:40:53.420887Z"
    },
    "papermill": {
     "duration": 0.385968,
     "end_time": "2025-09-09T09:40:53.423488",
     "exception": false,
     "start_time": "2025-09-09T09:40:53.037520",
     "status": "completed"
    },
    "tags": []
   },
   "outputs": [
    {
     "data": {
      "image/png": "[encoded data removed]",
      "text/plain": [
       "<Figure size 1200x800 with 1 Axes>"
      ]
     },
     "metadata": {},
     "output_type": "display_data"
    }
   ],
   "source": [
    "plt.figure(figsize=(12,8))\n",
    "sns.scatterplot(x=\"accommodates\", y=\"price\", data=paris_listings_accommodates, s=100, color=\"blue\")\n",
    "\n",
    "# Add a trendline\n",
    "sns.regplot(x=paris_listings_accommodates.index, y=\"price\", data=paris_listings_accommodates,\n",
    "            scatter=False, color=\"red\", line_kws={\"linewidth\":2})\n",
    "\n",
    "plt.title(\"Average Airbnb Price vs. Number of Guests Accommodated\", fontsize=14, fontweight=\"bold\")\n",
    "plt.xlabel(\"Number of Guests (Accommodates)\")\n",
    "plt.ylabel(\"Average Price (€)\")\n",
    "plt.grid(alpha=0.3)\n",
    "plt.show()"
   ]
  },
  {
   "cell_type": "code",
   "execution_count": 50,
   "id": "faa07257",
   "metadata": {
    "execution": {
     "iopub.execute_input": "2025-09-09T09:40:53.465352Z",
     "iopub.status.busy": "2025-09-09T09:40:53.464935Z",
     "iopub.status.idle": "2025-09-09T09:40:53.721549Z",
     "shell.execute_reply": "2025-09-09T09:40:53.720468Z"
    },
    "papermill": {
     "duration": 0.279245,
     "end_time": "2025-09-09T09:40:53.723115",
     "exception": false,
     "start_time": "2025-09-09T09:40:53.443870",
     "status": "completed"
    },
    "tags": []
   },
   "outputs": [
    {
     "data": {
      "image/png": "[encoded data removed]",
      "text/plain": [
       "<Figure size 1200x800 with 1 Axes>"
      ]
     },
     "metadata": {},
     "output_type": "display_data"
    }
   ],
   "source": [
    "plt.figure(figsize = (12,8))\n",
    "sns.barplot(data = paris_listings_accommodates,\n",
    "           x = \"price\",\n",
    "           y =paris_listings_accommodates.index,color = \"#FC642D\",\n",
    "           orient = \"h\" , order = paris_listings_accommodates.index)\n",
    "        \n",
    "plt.title(\"Neighbourhood in paris(Premium Localities at the top!)\")\n",
    "plt.xlabel(\"How Expensive?(Euros)\")\n",
    "plt.ylabel(\"Prominent Localities with AirBnBs\")\n",
    "plt.show()"
   ]
  },
  {
   "cell_type": "markdown",
   "id": "b939b28a",
   "metadata": {
    "papermill": {
     "duration": 0.020677,
     "end_time": "2025-09-09T09:40:53.765171",
     "exception": false,
     "start_time": "2025-09-09T09:40:53.744494",
     "status": "completed"
    },
    "tags": []
   },
   "source": [
    "<div style=\"\n",
    "    background-color: yellow; \n",
    "    color: black; \n",
    "    padding: 15px; \n",
    "    border-radius: 10px; \n",
    "    text-align: center; \n",
    "    font-size: 28px; \n",
    "    font-weight: bold;\n",
    "\">\n",
    "    Extracting Year to see time series Analysis of Price and New Host Joining\n",
    "</div>\n"
   ]
  },
  {
   "cell_type": "code",
   "execution_count": 51,
   "id": "37447e96",
   "metadata": {
    "execution": {
     "iopub.execute_input": "2025-09-09T09:40:53.808309Z",
     "iopub.status.busy": "2025-09-09T09:40:53.807975Z",
     "iopub.status.idle": "2025-09-09T09:40:53.812312Z",
     "shell.execute_reply": "2025-09-09T09:40:53.811452Z"
    },
    "papermill": {
     "duration": 0.02751,
     "end_time": "2025-09-09T09:40:53.813888",
     "exception": false,
     "start_time": "2025-09-09T09:40:53.786378",
     "status": "completed"
    },
    "tags": []
   },
   "outputs": [],
   "source": [
    "# NOW WE WILL CHECK HERE AFTER THE NEW RULE FOR AIR BNB IN 2017 , HOW MANY NEW LISTING WERE THERE EXITED "
   ]
  },
  {
   "cell_type": "code",
   "execution_count": 52,
   "id": "9f4c575a",
   "metadata": {
    "execution": {
     "iopub.execute_input": "2025-09-09T09:40:53.856480Z",
     "iopub.status.busy": "2025-09-09T09:40:53.856150Z",
     "iopub.status.idle": "2025-09-09T09:40:53.870406Z",
     "shell.execute_reply": "2025-09-09T09:40:53.869443Z"
    },
    "papermill": {
     "duration": 0.037598,
     "end_time": "2025-09-09T09:40:53.872023",
     "exception": false,
     "start_time": "2025-09-09T09:40:53.834425",
     "status": "completed"
    },
    "tags": []
   },
   "outputs": [
    {
     "data": {
      "text/html": [
       "<div>\n",
       "<style scoped>\n",
       "    .dataframe tbody tr th:only-of-type {\n",
       "        vertical-align: middle;\n",
       "    }\n",
       "\n",
       "    .dataframe tbody tr th {\n",
       "        vertical-align: top;\n",
       "    }\n",
       "\n",
       "    .dataframe thead th {\n",
       "        text-align: right;\n",
       "    }\n",
       "</style>\n",
       "<table border=\"1\" class=\"dataframe\">\n",
       "  <thead>\n",
       "    <tr style=\"text-align: right;\">\n",
       "      <th></th>\n",
       "      <th>listing_id</th>\n",
       "      <th>host_since</th>\n",
       "      <th>neighbourhood</th>\n",
       "      <th>city</th>\n",
       "      <th>accommodates</th>\n",
       "      <th>price</th>\n",
       "      <th>year_of_listing</th>\n",
       "    </tr>\n",
       "  </thead>\n",
       "  <tbody>\n",
       "    <tr>\n",
       "      <th>0</th>\n",
       "      <td>281420</td>\n",
       "      <td>2011-12-03</td>\n",
       "      <td>Buttes-Montmartre</td>\n",
       "      <td>Paris</td>\n",
       "      <td>2</td>\n",
       "      <td>53</td>\n",
       "      <td>2011</td>\n",
       "    </tr>\n",
       "    <tr>\n",
       "      <th>1</th>\n",
       "      <td>3705183</td>\n",
       "      <td>2013-11-29</td>\n",
       "      <td>Buttes-Montmartre</td>\n",
       "      <td>Paris</td>\n",
       "      <td>2</td>\n",
       "      <td>120</td>\n",
       "      <td>2013</td>\n",
       "    </tr>\n",
       "    <tr>\n",
       "      <th>2</th>\n",
       "      <td>4082273</td>\n",
       "      <td>2014-07-31</td>\n",
       "      <td>Elysee</td>\n",
       "      <td>Paris</td>\n",
       "      <td>2</td>\n",
       "      <td>89</td>\n",
       "      <td>2014</td>\n",
       "    </tr>\n",
       "    <tr>\n",
       "      <th>3</th>\n",
       "      <td>4797344</td>\n",
       "      <td>2013-12-17</td>\n",
       "      <td>Vaugirard</td>\n",
       "      <td>Paris</td>\n",
       "      <td>2</td>\n",
       "      <td>58</td>\n",
       "      <td>2013</td>\n",
       "    </tr>\n",
       "    <tr>\n",
       "      <th>4</th>\n",
       "      <td>4823489</td>\n",
       "      <td>2014-12-14</td>\n",
       "      <td>Passy</td>\n",
       "      <td>Paris</td>\n",
       "      <td>2</td>\n",
       "      <td>60</td>\n",
       "      <td>2014</td>\n",
       "    </tr>\n",
       "  </tbody>\n",
       "</table>\n",
       "</div>"
      ],
      "text/plain": [
       "   listing_id host_since      neighbourhood   city  accommodates  price  \\\n",
       "0      281420 2011-12-03  Buttes-Montmartre  Paris             2     53   \n",
       "1     3705183 2013-11-29  Buttes-Montmartre  Paris             2    120   \n",
       "2     4082273 2014-07-31             Elysee  Paris             2     89   \n",
       "3     4797344 2013-12-17          Vaugirard  Paris             2     58   \n",
       "4     4823489 2014-12-14              Passy  Paris             2     60   \n",
       "\n",
       "   year_of_listing  \n",
       "0             2011  \n",
       "1             2013  \n",
       "2             2014  \n",
       "3             2013  \n",
       "4             2014  "
      ]
     },
     "execution_count": 52,
     "metadata": {},
     "output_type": "execute_result"
    }
   ],
   "source": [
    "paris_listings[\"year_of_listing\"] = paris_listings[\"host_since\"].dt.year\n",
    "paris_listings.head()"
   ]
  },
  {
   "cell_type": "markdown",
   "id": "ce1224bb",
   "metadata": {
    "papermill": {
     "duration": 0.020269,
     "end_time": "2025-09-09T09:40:53.913209",
     "exception": false,
     "start_time": "2025-09-09T09:40:53.892940",
     "status": "completed"
    },
    "tags": []
   },
   "source": [
    "### Why Use the *host_since* Column?\n",
    "\n",
    "The **`host_since`** column records the date when a host first listed their property on Airbnb.  \n",
    "Analyzing this column can provide valuable business insights because:\n",
    "\n",
    "- **Market Entry Timing**: It shows when new hosts are joining the platform, which reflects Airbnb’s growth phases.  \n",
    "- **Host Experience**: Longer tenure may correlate with more reliable hosts and better reviews, whereas recent hosts might need onboarding support.  \n",
    "- **Business Cycles**: Peaks in new host sign-ups can indicate favorable periods for the short-term rental business (e.g., tourism booms, policy changes, or high-demand seasons).  \n",
    "- **Impact of Regulations**: Sudden drops in new host listings may highlight external factors such as regulations or economic conditions affecting supply.  \n",
    "\n",
    "In short, **tracking the `host_since` column helps identify the best times when the Airbnb business environment was most attractive for new entrants**, which can act as a proxy for \"good times\" in the market.\n"
   ]
  },
  {
   "cell_type": "code",
   "execution_count": 53,
   "id": "62bd3815",
   "metadata": {
    "execution": {
     "iopub.execute_input": "2025-09-09T09:40:53.955639Z",
     "iopub.status.busy": "2025-09-09T09:40:53.955303Z",
     "iopub.status.idle": "2025-09-09T09:40:53.967987Z",
     "shell.execute_reply": "2025-09-09T09:40:53.967156Z"
    },
    "papermill": {
     "duration": 0.035691,
     "end_time": "2025-09-09T09:40:53.969502",
     "exception": false,
     "start_time": "2025-09-09T09:40:53.933811",
     "status": "completed"
    },
    "tags": []
   },
   "outputs": [
    {
     "data": {
      "text/html": [
       "<div>\n",
       "<style scoped>\n",
       "    .dataframe tbody tr th:only-of-type {\n",
       "        vertical-align: middle;\n",
       "    }\n",
       "\n",
       "    .dataframe tbody tr th {\n",
       "        vertical-align: top;\n",
       "    }\n",
       "\n",
       "    .dataframe thead th {\n",
       "        text-align: right;\n",
       "    }\n",
       "</style>\n",
       "<table border=\"1\" class=\"dataframe\">\n",
       "  <thead>\n",
       "    <tr style=\"text-align: right;\">\n",
       "      <th></th>\n",
       "      <th>listing_id</th>\n",
       "      <th>price</th>\n",
       "    </tr>\n",
       "    <tr>\n",
       "      <th>year_of_listing</th>\n",
       "      <th></th>\n",
       "      <th></th>\n",
       "    </tr>\n",
       "  </thead>\n",
       "  <tbody>\n",
       "    <tr>\n",
       "      <th>2008</th>\n",
       "      <td>4</td>\n",
       "      <td>77.750000</td>\n",
       "    </tr>\n",
       "    <tr>\n",
       "      <th>2009</th>\n",
       "      <td>105</td>\n",
       "      <td>142.114286</td>\n",
       "    </tr>\n",
       "    <tr>\n",
       "      <th>2010</th>\n",
       "      <td>415</td>\n",
       "      <td>120.995181</td>\n",
       "    </tr>\n",
       "    <tr>\n",
       "      <th>2011</th>\n",
       "      <td>1333</td>\n",
       "      <td>109.597149</td>\n",
       "    </tr>\n",
       "    <tr>\n",
       "      <th>2012</th>\n",
       "      <td>4576</td>\n",
       "      <td>107.654283</td>\n",
       "    </tr>\n",
       "    <tr>\n",
       "      <th>2013</th>\n",
       "      <td>8128</td>\n",
       "      <td>104.295153</td>\n",
       "    </tr>\n",
       "    <tr>\n",
       "      <th>2014</th>\n",
       "      <td>10889</td>\n",
       "      <td>96.403067</td>\n",
       "    </tr>\n",
       "    <tr>\n",
       "      <th>2015</th>\n",
       "      <td>12100</td>\n",
       "      <td>96.397438</td>\n",
       "    </tr>\n",
       "    <tr>\n",
       "      <th>2016</th>\n",
       "      <td>8767</td>\n",
       "      <td>100.576366</td>\n",
       "    </tr>\n",
       "    <tr>\n",
       "      <th>2017</th>\n",
       "      <td>4553</td>\n",
       "      <td>100.466506</td>\n",
       "    </tr>\n",
       "    <tr>\n",
       "      <th>2018</th>\n",
       "      <td>4252</td>\n",
       "      <td>114.871119</td>\n",
       "    </tr>\n",
       "    <tr>\n",
       "      <th>2019</th>\n",
       "      <td>5615</td>\n",
       "      <td>113.016207</td>\n",
       "    </tr>\n",
       "    <tr>\n",
       "      <th>2020</th>\n",
       "      <td>3322</td>\n",
       "      <td>115.336243</td>\n",
       "    </tr>\n",
       "    <tr>\n",
       "      <th>2021</th>\n",
       "      <td>133</td>\n",
       "      <td>93.488722</td>\n",
       "    </tr>\n",
       "  </tbody>\n",
       "</table>\n",
       "</div>"
      ],
      "text/plain": [
       "                 listing_id       price\n",
       "year_of_listing                        \n",
       "2008                      4   77.750000\n",
       "2009                    105  142.114286\n",
       "2010                    415  120.995181\n",
       "2011                   1333  109.597149\n",
       "2012                   4576  107.654283\n",
       "2013                   8128  104.295153\n",
       "2014                  10889   96.403067\n",
       "2015                  12100   96.397438\n",
       "2016                   8767  100.576366\n",
       "2017                   4553  100.466506\n",
       "2018                   4252  114.871119\n",
       "2019                   5615  113.016207\n",
       "2020                   3322  115.336243\n",
       "2021                    133   93.488722"
      ]
     },
     "execution_count": 53,
     "metadata": {},
     "output_type": "execute_result"
    }
   ],
   "source": [
    "paris_listings_final_analysis = paris_listings.groupby(\"year_of_listing\").agg({\"listing_id\" :\"count\",\"price\":\"mean\"})\n",
    "paris_listings_final_analysis"
   ]
  },
  {
   "cell_type": "code",
   "execution_count": 54,
   "id": "f3a9f97a",
   "metadata": {
    "execution": {
     "iopub.execute_input": "2025-09-09T09:40:54.013480Z",
     "iopub.status.busy": "2025-09-09T09:40:54.012812Z",
     "iopub.status.idle": "2025-09-09T09:40:54.311765Z",
     "shell.execute_reply": "2025-09-09T09:40:54.310940Z"
    },
    "papermill": {
     "duration": 0.32378,
     "end_time": "2025-09-09T09:40:54.314235",
     "exception": false,
     "start_time": "2025-09-09T09:40:53.990455",
     "status": "completed"
    },
    "tags": []
   },
   "outputs": [
    {
     "data": {
      "image/png": "[encoded data removed]",
      "text/plain": [
       "<Figure size 1200x600 with 1 Axes>"
      ]
     },
     "metadata": {},
     "output_type": "display_data"
    }
   ],
   "source": [
    "plt.figure(figsize=(12,6))\n",
    "\n",
    "plt.plot(paris_listings_final_analysis.index, paris_listings_final_analysis['listing_id'], \n",
    "         marker='o', linestyle='-', linewidth=2, color='teal', alpha=0.8)\n",
    "\n",
    "# Titles and labels\n",
    "plt.title(\"Number of New Airbnb Listings in Paris Over Time\", fontsize=16, fontweight=\"bold\", pad=15)\n",
    "plt.xlabel(\"Year of Listing\", fontsize=13)\n",
    "plt.ylabel(\"Number of New Listings\", fontsize=13)\n",
    "\n",
    "# Grid and ticks\n",
    "plt.grid(alpha=0.3, linestyle=\"--\")\n",
    "plt.xticks(paris_listings_final_analysis.index, rotation=45)\n",
    "plt.yticks(fontsize=11)\n",
    "plt.xticks(fontsize=11)\n",
    "\n",
    "# Highlight regulation year (2017)\n",
    "plt.axvline(x=2017, color='red', linestyle='--', linewidth=2, alpha=0.7, label=\"Regulation (2017)\")\n",
    "plt.legend(fontsize=11)\n",
    "\n",
    "plt.tight_layout()\n",
    "plt.show()\n"
   ]
  },
  {
   "cell_type": "markdown",
   "id": "fc09c31d",
   "metadata": {
    "papermill": {
     "duration": 0.022691,
     "end_time": "2025-09-09T09:40:54.360548",
     "exception": false,
     "start_time": "2025-09-09T09:40:54.337857",
     "status": "completed"
    },
    "tags": []
   },
   "source": [
    "### Insight on Airbnb Listings Over Time\n",
    "\n",
    "- From **2008 to 2015**, the number of new Airbnb listings in Paris grew rapidly, peaking around **2015–2016** with more than 12,000 new hosts entering the market. This indicates a period of **high attractiveness and strong growth** for Airbnb, with both **supply (hosts)** and **demand (customers)** expanding significantly.  \n",
    "\n",
    "- Starting in **2017**, there is a sharp decline in the number of new listings. This coincides with the **regulation imposed in Paris in 2017** that aimed to control short-term rentals due to housing shortages. The regulation clearly discouraged many new hosts from entering the market, leading to a **reduction in supply growth**.  \n",
    "\n",
    "- The continued decline after 2017 suggests that the **barriers to entry remained high**, keeping potential new hosts from joining. On the demand side, while tourists and customers likely still sought Airbnbs, the **limited supply growth** would have constrained options and potentially increased prices.  \n",
    "\n",
    "**Overall:**  \n",
    "- **Pre-2017:** Strong growth in both supply (hosts) and demand (customers).  \n",
    "- **Post-2017:** Regulation led to a slowdown in host entry, reducing supply expansion, even though customer demand likely remained steady or growing.\n"
   ]
  },
  {
   "cell_type": "markdown",
   "id": "d813cabe",
   "metadata": {
    "papermill": {
     "duration": 0.022029,
     "end_time": "2025-09-09T09:40:54.404762",
     "exception": false,
     "start_time": "2025-09-09T09:40:54.382733",
     "status": "completed"
    },
    "tags": []
   },
   "source": []
  },
  {
   "cell_type": "code",
   "execution_count": 55,
   "id": "52464e7b",
   "metadata": {
    "execution": {
     "iopub.execute_input": "2025-09-09T09:40:54.451216Z",
     "iopub.status.busy": "2025-09-09T09:40:54.450936Z",
     "iopub.status.idle": "2025-09-09T09:40:54.760543Z",
     "shell.execute_reply": "2025-09-09T09:40:54.759523Z"
    },
    "papermill": {
     "duration": 0.335628,
     "end_time": "2025-09-09T09:40:54.763075",
     "exception": false,
     "start_time": "2025-09-09T09:40:54.427447",
     "status": "completed"
    },
    "tags": []
   },
   "outputs": [
    {
     "data": {
      "image/png": "[encoded data removed]",
      "text/plain": [
       "<Figure size 1200x800 with 1 Axes>"
      ]
     },
     "metadata": {},
     "output_type": "display_data"
    }
   ],
   "source": [
    "plt.figure(figsize=(12,8))\n",
    "\n",
    "# Line chart with markers\n",
    "sns.lineplot(\n",
    "    x=\"year_of_listing\", \n",
    "    y=\"price\", \n",
    "    data=paris_listings_final_analysis, \n",
    "    marker=\"o\", \n",
    "    linewidth=2.5, \n",
    "    color=\"teal\"\n",
    ")\n",
    "\n",
    "# Titles and labels\n",
    "plt.title(\"Average Airbnb Prices in Paris Over Time\", fontsize=18, fontweight=\"bold\", pad=15)\n",
    "plt.xlabel(\"Year of Listing\", fontsize=14)\n",
    "plt.ylabel(\"Average Price (€)\", fontsize=14)\n",
    "\n",
    "# Grid styling\n",
    "plt.grid(alpha=0.3, linestyle=\"--\")\n",
    "\n",
    "# Highlight regulation year (2017)\n",
    "plt.axvline(x=2017, color=\"red\", linestyle=\"--\", linewidth=2, alpha=0.7, label=\"Regulation (2017)\")\n",
    "\n",
    "# Improve ticks\n",
    "plt.xticks(fontsize=12, rotation=45)\n",
    "plt.yticks(fontsize=12)\n",
    "\n",
    "# Legend\n",
    "plt.legend(fontsize=12)\n",
    "\n",
    "plt.tight_layout()\n",
    "plt.show()\n"
   ]
  },
  {
   "cell_type": "markdown",
   "id": "780984f1",
   "metadata": {
    "papermill": {
     "duration": 0.024547,
     "end_time": "2025-09-09T09:40:54.815829",
     "exception": false,
     "start_time": "2025-09-09T09:40:54.791282",
     "status": "completed"
    },
    "tags": []
   },
   "source": [
    "### Insight on Average Airbnb Prices Over Time\n",
    "\n",
    "- **2008–2009:** Prices started relatively low (~€78) but spiked sharply in 2009 to over **€140**, possibly reflecting early market scarcity and premium pricing when Airbnb first entered Paris.  \n",
    "\n",
    "- **2010–2014:** A consistent **downward trend** is visible, with average prices falling from ~€121 to ~€96. This suggests **increasing competition and supply** as more hosts entered the market, leading to price normalization.  \n",
    "\n",
    "- **2015–2017:** Prices stabilized at just under €100–€101/night, marking a period of equilibrium between supply growth and customer demand.  \n",
    "\n",
    "- **2018–2020:** Prices rose again to around **€115/night**, despite stricter **2017 regulations**. With supply growth slowing, fewer new listings may have pushed average prices upward as demand remained strong.  \n",
    "\n",
    "- **2021 onwards:** A decline back toward ~€93 is visible, possibly reflecting **pandemic-related demand shocks** and a temporary oversupply compared to lower travel activity.  \n",
    "\n",
    "**Overall:**  \n",
    "- In the **early years**, scarcity kept prices high.  \n",
    "- As supply expanded, **competition drove prices down**.  \n",
    "- **Regulation (2017)** limited supply growth, causing a **price rebound**.  \n",
    "- **Pandemic effects** likely caused the post-2020 decline.  \n"
   ]
  },
  {
   "cell_type": "code",
   "execution_count": 56,
   "id": "71d00ce4",
   "metadata": {
    "execution": {
     "iopub.execute_input": "2025-09-09T09:40:54.865946Z",
     "iopub.status.busy": "2025-09-09T09:40:54.865654Z",
     "iopub.status.idle": "2025-09-09T09:40:54.869606Z",
     "shell.execute_reply": "2025-09-09T09:40:54.868716Z"
    },
    "papermill": {
     "duration": 0.030662,
     "end_time": "2025-09-09T09:40:54.871105",
     "exception": false,
     "start_time": "2025-09-09T09:40:54.840443",
     "status": "completed"
    },
    "tags": []
   },
   "outputs": [],
   "source": [
    "# it will add two chart at one place"
   ]
  },
  {
   "cell_type": "code",
   "execution_count": 57,
   "id": "f65cdb38",
   "metadata": {
    "execution": {
     "iopub.execute_input": "2025-09-09T09:40:54.922252Z",
     "iopub.status.busy": "2025-09-09T09:40:54.921678Z",
     "iopub.status.idle": "2025-09-09T09:40:55.444719Z",
     "shell.execute_reply": "2025-09-09T09:40:55.443682Z"
    },
    "papermill": {
     "duration": 0.55211,
     "end_time": "2025-09-09T09:40:55.448005",
     "exception": false,
     "start_time": "2025-09-09T09:40:54.895895",
     "status": "completed"
    },
    "tags": []
   },
   "outputs": [
    {
     "data": {
      "image/png": "[encoded data removed]",
      "text/plain": [
       "<Figure size 1200x800 with 2 Axes>"
      ]
     },
     "metadata": {},
     "output_type": "display_data"
    }
   ],
   "source": [
    "fig, ax = plt.subplots(figsize=(12,8))\n",
    "\n",
    "# Plot number of listings (left y-axis)\n",
    "ax.plot(\n",
    "    paris_listings_final_analysis.index, \n",
    "    paris_listings_final_analysis[\"listing_id\"], \n",
    "    color=\"teal\", linewidth=2.5, marker=\"o\", label=\"Number of Listings\"\n",
    ")\n",
    "ax.set_xlabel(\"Year of Listing\", fontsize=14)\n",
    "ax.set_ylabel(\"Number of New Listings\", fontsize=14, color=\"teal\")\n",
    "ax.tick_params(axis=\"y\", labelcolor=\"teal\")\n",
    "\n",
    "# Secondary y-axis for price\n",
    "ax2 = ax.twinx()\n",
    "ax2.plot(\n",
    "    paris_listings_final_analysis.index, \n",
    "    paris_listings_final_analysis[\"price\"], \n",
    "    color=\"darkorange\", linewidth=2.5, marker=\"s\", label=\"Average Price (€)\"\n",
    ")\n",
    "ax2.set_ylabel(\"Average Price (€)\", fontsize=14, color=\"darkorange\")\n",
    "ax2.tick_params(axis=\"y\", labelcolor=\"darkorange\")\n",
    "ax2.set_ylim(0)\n",
    "\n",
    "# Titles and grid\n",
    "plt.title(\"Airbnb Listings vs. Average Price in Paris (2008–2021)\", fontsize=18, fontweight=\"bold\", pad=15)\n",
    "ax.grid(alpha=0.3, linestyle=\"--\")\n",
    "\n",
    "# Highlight regulation year (2017)\n",
    "ax.axvline(x=2017, color=\"red\", linestyle=\"--\", linewidth=2, alpha=0.8, label=\"Regulation (2017)\")\n",
    "\n",
    "# Shade post-2017 period\n",
    "ax.axvspan(2017, paris_listings_final_analysis.index.max(), color=\"red\", alpha=0.1)\n",
    "\n",
    "# Add text inside shaded area\n",
    "ax.text(\n",
    "    2017.5, \n",
    "    ax.get_ylim()[1]*0.9,   # position text near the top of shaded area\n",
    "    \"Post-regulation era\", \n",
    "    color=\"red\", fontsize=13, fontweight=\"bold\"\n",
    ")\n",
    "\n",
    "# ---- Annotations ----\n",
    "# Peak in listings (2015–2016)\n",
    "peak_year = paris_listings_final_analysis[\"listing_id\"].idxmax()\n",
    "peak_val = paris_listings_final_analysis[\"listing_id\"].max()\n",
    "ax.annotate(\n",
    "    f\"Peak Listings\\n({peak_year}: {peak_val:,})\",\n",
    "    xy=(peak_year, peak_val),\n",
    "    xytext=(peak_year-2, peak_val+2000),\n",
    "    arrowprops=dict(arrowstyle=\"->\", color=\"teal\"),\n",
    "    fontsize=12, color=\"teal\"\n",
    ")\n",
    "\n",
    "# Lowest price point (2014)\n",
    "low_year = paris_listings_final_analysis[\"price\"].idxmin()\n",
    "low_val = paris_listings_final_analysis[\"price\"].min()\n",
    "ax2.annotate(\n",
    "    f\"Lowest Price\\n({low_year}: €{low_val:.0f})\",\n",
    "    xy=(low_year, low_val),\n",
    "    xytext=(low_year+1, low_val-15),\n",
    "    arrowprops=dict(arrowstyle=\"->\", color=\"darkorange\"),\n",
    "    fontsize=12, color=\"darkorange\"\n",
    ")\n",
    "\n",
    "# Price rebound post-2017\n",
    "ax2.annotate(\n",
    "    \"Price rebound\\npost-regulation\",\n",
    "    xy=(2018, paris_listings_final_analysis.loc[2018, \"price\"]),\n",
    "    xytext=(2014.5, 130),\n",
    "    arrowprops=dict(arrowstyle=\"->\", color=\"darkorange\"),\n",
    "    fontsize=12, color=\"darkorange\"\n",
    ")\n",
    "\n",
    "# Legends\n",
    "lines, labels = ax.get_legend_handles_labels()\n",
    "lines2, labels2 = ax2.get_legend_handles_labels()\n",
    "ax.legend(lines + lines2, labels + labels2, fontsize=12, loc=\"upper left\")\n",
    "\n",
    "plt.tight_layout()\n",
    "plt.show()\n"
   ]
  },
  {
   "cell_type": "markdown",
   "id": "b6950beb",
   "metadata": {
    "papermill": {
     "duration": 0.02758,
     "end_time": "2025-09-09T09:40:55.505072",
     "exception": false,
     "start_time": "2025-09-09T09:40:55.477492",
     "status": "completed"
    },
    "tags": []
   },
   "source": [
    "## Final Insights and Recommendations\n",
    "\n",
    "### Key Insights\n",
    "1. **Strong Growth Pre-2017**  \n",
    "   - Paris experienced rapid growth in Airbnb listings between 2008–2016, peaking in 2015–2016.  \n",
    "   - This reflects high demand and strong attractiveness of the short-term rental market.  \n",
    "\n",
    "2. **Impact of 2017 Regulations**  \n",
    "   - The number of new hosts dropped sharply after the 2017 regulations that restricted short-term rentals.  \n",
    "   - While demand from travelers remained steady, the reduced inflow of hosts slowed supply growth.  \n",
    "\n",
    "3. **Price Dynamics**  \n",
    "   - Average prices decreased between 2010–2014 due to increased competition from new hosts.  \n",
    "   - Post-2017, prices rebounded as supply growth slowed, suggesting a supply-demand imbalance.  \n",
    "   - During the pandemic (2020–2021), prices declined again due to demand shocks.  \n",
    "\n",
    "4. **Locality-Based Trends**  \n",
    "   - Central, prestigious areas (Louvre, Elysee, Luxembourg) command premium prices.  \n",
    "   - Outer neighborhoods (Menilmontant, Buttes-Chaumont) remain more affordable, appealing to budget travelers.  \n",
    "\n",
    "5. **Accommodation Capacity**  \n",
    "   - Prices scale with the number of guests a listing can accommodate, but not proportionally.  \n",
    "   - Large properties (10+ guests) cater to a niche segment, with very high average nightly prices.  \n",
    "\n",
    "---\n",
    "\n",
    "### Recommendations for the Business\n",
    "1. **Focus on High-Demand Localities**  \n",
    "   - Prioritize investments and partnerships in central, premium areas where demand is strongest and prices are resilient.  \n",
    "   - Simultaneously, target budget-friendly neighborhoods to attract cost-sensitive travelers.  \n",
    "\n",
    "2. **Leverage Supply-Demand Gap Post-2017**  \n",
    "   - With stricter entry for new hosts, existing hosts can capture greater market share.  \n",
    "   - Encourage quality improvements and unique value-adds (professional photos, amenities, flexible check-in) to stand out.  \n",
    "\n",
    "3. **Diversify Accommodation Sizes**  \n",
    "   - Promote medium-capacity listings (3–6 guests) that balance affordability and profitability.  \n",
    "   - Large properties should be marketed as group or family stays, potentially bundling with experiences.  \n",
    "\n",
    "4. **Dynamic Pricing Strategy**  \n",
    "   - Implement data-driven pricing models that account for seasonality, locality, and capacity.  \n",
    "   - Post-pandemic recovery presents an opportunity to adjust prices as travel demand rebounds.  \n",
    "\n",
    "5. **Customer-Centric Growth**  \n",
    "   - Enhance guest experience through verified reviews, safety measures, and customer support.  \n",
    "   - Focus on repeat customers and long-term stays, especially in regulatory-constrained markets.  \n",
    "\n",
    "6. **Policy Adaptation**  \n",
    "   - Stay agile in response to local regulations.  \n",
    "   - Explore partnerships or compliance-based strategies (e.g., registered professional hosting) to maintain competitiveness.  \n",
    "\n",
    "---\n",
    "\n",
    "✅ **Overall:** Paris Airbnb experienced strong growth until 2017, after which regulations constrained supply. Demand has remained steady, pushing prices higher post-regulation. Businesses should focus on **balancing premium and budget offerings, adopting dynamic pricing, and aligning with regulatory frameworks** to remain competitive in this evolving market.\n"
   ]
  },
  {
   "cell_type": "markdown",
   "id": "a57b981b",
   "metadata": {
    "papermill": {
     "duration": 0.02677,
     "end_time": "2025-09-09T09:40:55.558545",
     "exception": false,
     "start_time": "2025-09-09T09:40:55.531775",
     "status": "completed"
    },
    "tags": []
   },
   "source": [
    "<div style=\"background-color:yellow; padding:25px; border-radius:12px; text-align:center;\">\n",
    "  <h1 style=\"color:black;\">✅ Thank You</h1>\n",
    "  <p style=\"color:black; font-size:18px; text-align:center;\">\n",
    "    We appreciate your time reviewing this analysis.<br>\n",
    "    For any questions or discussions, feel free to connect.\n",
    "  </p>\n",
    "</div>\n",
    "\n",
    "<p style=\"text-align:center; color:gray; font-size:14px; margin-top:10px;\">\n",
    "  Airbnb Paris Analysis | 2025\n",
    "</p>\n"
   ]
  },
  {
   "cell_type": "code",
   "execution_count": null,
   "id": "8b6a1af2",
   "metadata": {
    "papermill": {
     "duration": 0.02629,
     "end_time": "2025-09-09T09:40:55.612719",
     "exception": false,
     "start_time": "2025-09-09T09:40:55.586429",
     "status": "completed"
    },
    "tags": []
   },
   "outputs": [],
   "source": []
  }
 ],
 "metadata": {
  "kaggle": {
   "accelerator": "none",
   "dataSources": [
    {
     "datasetId": 1530930,
     "sourceId": 2526818,
     "sourceType": "datasetVersion"
    }
   ],
   "dockerImageVersionId": 31089,
   "isGpuEnabled": false,
   "isInternetEnabled": false,
   "language": "python",
   "sourceType": "notebook"
  },
  "kernelspec": {
   "display_name": "Python 3",
   "language": "python",
   "name": "python3"
  },
  "language_info": {
   "codemirror_mode": {
    "name": "ipython",
    "version": 3
   },
   "file_extension": ".py",
   "mimetype": "text/x-python",
   "name": "python",
   "nbconvert_exporter": "python",
   "pygments_lexer": "ipython3",
   "version": "3.11.13"
  },
  "papermill": {
   "default_parameters": {},
   "duration": 34.203567,
   "end_time": "2025-09-09T09:40:56.762666",
   "environment_variables": {},
   "exception": null,
   "input_path": "__notebook__.ipynb",
   "output_path": "__notebook__.ipynb",
   "parameters": {},
   "start_time": "2025-09-09T09:40:22.559099",
   "version": "2.6.0"
  }
 },
 "nbformat": 4,
 "nbformat_minor": 5
}
